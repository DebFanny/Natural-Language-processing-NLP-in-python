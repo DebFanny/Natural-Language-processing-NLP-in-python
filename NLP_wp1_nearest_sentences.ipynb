{
  "cells": [
    {
      "cell_type": "markdown",
      "source": [
        "This notebook is mixt between a work practice and the research I did online. Here you will find a small tutoriel of text processing tools and a tutorial to find the similar sentences (matching in meaning/semantic way).\n",
        "\n",
        "# First work practice in NLP\n",
        "\n",
        "Subject :\n",
        "\n",
        "Go on Google News and select 2 press articles (2 about the same topic).\n",
        "Copy/paste the text content of each article in 2 separate files.\n",
        "\n",
        "**The goal is to find the two nearest sentences (in a meaning/semantic way) in the articles on the same topic.**\n",
        "The possible tools used to achieve this result are : **tokenization, regular expressions and string distances**.\n"
      ],
      "metadata": {
        "id": "oNuDP6a80yHc"
      },
      "id": "oNuDP6a80yHc"
    },
    {
      "cell_type": "markdown",
      "source": [
        "# Libraries :"
      ],
      "metadata": {
        "id": "_dduK_Rn1-VJ"
      },
      "id": "_dduK_Rn1-VJ"
    },
    {
      "cell_type": "code",
      "execution_count": null,
      "id": "attractive-convertible",
      "metadata": {
        "id": "attractive-convertible"
      },
      "outputs": [],
      "source": [
        "import nltk\n",
        "import pandas as pd\n",
        "from nltk.stem.snowball import EnglishStemmer\n",
        "from nltk.tokenize import TreebankWordTokenizer\n",
        "from nltk.tokenize import regexp_tokenize\n",
        "from nltk.tokenize import RegexpTokenizer\n",
        "from nltk.corpus import stopwords\n",
        "from nltk.stem import WordNetLemmatizer\n",
        "from nltk.stem import PorterStemmer\n",
        "from nltk.metrics import *\n",
        "import textdistance as td\n",
        "\n",
        "stemmer = EnglishStemmer()"
      ]
    },
    {
      "cell_type": "code",
      "execution_count": null,
      "id": "textile-princess",
      "metadata": {
        "scrolled": true,
        "colab": {
          "base_uri": "https://localhost:8080/"
        },
        "id": "textile-princess",
        "outputId": "2d60c69b-4e52-4515-c821-75776f3f6634"
      },
      "outputs": [
        {
          "output_type": "stream",
          "name": "stderr",
          "text": [
            "[nltk_data] Downloading package punkt to /root/nltk_data...\n",
            "[nltk_data]   Unzipping tokenizers/punkt.zip.\n"
          ]
        },
        {
          "output_type": "execute_result",
          "data": {
            "text/plain": [
              "True"
            ]
          },
          "metadata": {},
          "execution_count": 2
        }
      ],
      "source": [
        "nltk.download('punkt')"
      ]
    },
    {
      "cell_type": "code",
      "execution_count": null,
      "id": "adolescent-intervention",
      "metadata": {
        "colab": {
          "base_uri": "https://localhost:8080/"
        },
        "id": "adolescent-intervention",
        "outputId": "e158aa26-df12-4815-f3e6-96f39c2f816d"
      },
      "outputs": [
        {
          "output_type": "stream",
          "name": "stderr",
          "text": [
            "[nltk_data] Downloading package stopwords to /root/nltk_data...\n",
            "[nltk_data]   Unzipping corpora/stopwords.zip.\n"
          ]
        },
        {
          "output_type": "execute_result",
          "data": {
            "text/plain": [
              "True"
            ]
          },
          "metadata": {},
          "execution_count": 3
        }
      ],
      "source": [
        "nltk.download('stopwords')"
      ]
    },
    {
      "cell_type": "code",
      "execution_count": null,
      "id": "pretty-parish",
      "metadata": {
        "colab": {
          "base_uri": "https://localhost:8080/"
        },
        "id": "pretty-parish",
        "outputId": "8e4f03eb-168a-4876-a1ec-aa8a6d7ebc85"
      },
      "outputs": [
        {
          "output_type": "stream",
          "name": "stderr",
          "text": [
            "[nltk_data] Downloading package wordnet to /root/nltk_data...\n"
          ]
        },
        {
          "output_type": "execute_result",
          "data": {
            "text/plain": [
              "True"
            ]
          },
          "metadata": {},
          "execution_count": 4
        }
      ],
      "source": [
        "nltk.download('wordnet')"
      ]
    },
    {
      "cell_type": "markdown",
      "id": "improved-albania",
      "metadata": {
        "id": "improved-albania"
      },
      "source": [
        "# Course\n",
        "\n",
        "the homework and its conclusion are in the bottom of the document"
      ]
    },
    {
      "cell_type": "markdown",
      "source": [
        "## Tools example :"
      ],
      "metadata": {
        "id": "ZIUP0g1H2c6w"
      },
      "id": "ZIUP0g1H2c6w"
    },
    {
      "cell_type": "markdown",
      "id": "virgin-south",
      "metadata": {
        "id": "virgin-south"
      },
      "source": [
        "### Tokenization of text into sentence :"
      ]
    },
    {
      "cell_type": "code",
      "execution_count": null,
      "id": "latter-accreditation",
      "metadata": {
        "colab": {
          "base_uri": "https://localhost:8080/"
        },
        "id": "latter-accreditation",
        "outputId": "0d3a9fdb-0458-4460-fd96-e9ab566fbf96"
      },
      "outputs": [
        {
          "output_type": "execute_result",
          "data": {
            "text/plain": [
              "[' Hello everyone.',\n",
              " 'Hope all are fine and doing well.',\n",
              " 'Hope you find the book interesting']"
            ]
          },
          "metadata": {},
          "execution_count": 10
        }
      ],
      "source": [
        "tokenizer=nltk.data.load('tokenizers/punkt/english.pickle')\n",
        "text=\" Hello everyone. Hope all are fine and doing well. Hope you find the book interesting\"\n",
        "tokenizer.tokenize(text)"
      ]
    },
    {
      "cell_type": "markdown",
      "id": "mounted-entrance",
      "metadata": {
        "id": "mounted-entrance"
      },
      "source": [
        "### Tokenization of text in other langages :"
      ]
    },
    {
      "cell_type": "code",
      "execution_count": null,
      "id": "continued-advance",
      "metadata": {
        "colab": {
          "base_uri": "https://localhost:8080/"
        },
        "id": "continued-advance",
        "outputId": "0d4e2d5c-3b4c-4f90-d326-a9cb0b37815c"
      },
      "outputs": [
        {
          "output_type": "execute_result",
          "data": {
            "text/plain": [
              "['Bonjour à tous.',\n",
              " \"J'espère que tout le monde va bien et que tout va bien.\",\n",
              " \"J'espère que vous trouverez le livre intéressant\"]"
            ]
          },
          "metadata": {},
          "execution_count": 13
        }
      ],
      "source": [
        "french_tokenizer=nltk.data.load('tokenizers/punkt/french.pickle')\n",
        "french_tokenizer.tokenize(\"Bonjour à tous. J'espère que tout le monde va bien et que tout va bien. J'espère que vous trouverez le livre intéressant\")"
      ]
    },
    {
      "cell_type": "markdown",
      "id": "middle-genetics",
      "metadata": {
        "id": "middle-genetics"
      },
      "source": [
        "### Tokenization of sentences into words :"
      ]
    },
    {
      "cell_type": "code",
      "execution_count": null,
      "id": "collaborative-arbor",
      "metadata": {
        "id": "collaborative-arbor",
        "outputId": "d1d24ad7-74da-4fb2-f858-f5dafeb35f5d"
      },
      "outputs": [
        {
          "data": {
            "text/plain": [
              "['Have',\n",
              " 'a',\n",
              " 'nice',\n",
              " 'day.',\n",
              " 'I',\n",
              " 'hope',\n",
              " 'you',\n",
              " 'find',\n",
              " 'the',\n",
              " 'book',\n",
              " 'interesting']"
            ]
          },
          "execution_count": 13,
          "metadata": {},
          "output_type": "execute_result"
        }
      ],
      "source": [
        "tokenizer = TreebankWordTokenizer()\n",
        "tokenizer.tokenize(\"Have a nice day. I hope you find the book interesting\")"
      ]
    },
    {
      "cell_type": "markdown",
      "source": [
        "**As you can see below there may be limitations depending on the structure and shape of the words.**"
      ],
      "metadata": {
        "id": "DEcetVzK3Uur"
      },
      "id": "DEcetVzK3Uur"
    },
    {
      "cell_type": "markdown",
      "source": [
        "TreebankWordTokenizer uses conventions according to Penn Treebank Corpus. It works by\n",
        "separating contractions. This is shown here:"
      ],
      "metadata": {
        "id": "VrR-BqRx34KP"
      },
      "id": "VrR-BqRx34KP"
    },
    {
      "cell_type": "code",
      "execution_count": null,
      "id": "welsh-forestry",
      "metadata": {
        "id": "welsh-forestry",
        "outputId": "65f1aaed-6f09-4707-af1e-041efa517a5e"
      },
      "outputs": [
        {
          "name": "stdout",
          "output_type": "stream",
          "text": [
            "['Do', \"n't\", 'hesitate', 'to', 'ask', 'questions']\n"
          ]
        }
      ],
      "source": [
        "text=nltk.word_tokenize(\" Don't hesitate to ask questions\")\n",
        "print(text)\n"
      ]
    },
    {
      "cell_type": "markdown",
      "source": [
        "Another word tokenizer is PunktWordTokenizer . It works by splitting punctuation; each word is\n",
        "kept instead of creating an entirely new token. This is shown here :"
      ],
      "metadata": {
        "id": "0_FCoSxT45uZ"
      },
      "id": "0_FCoSxT45uZ"
    },
    {
      "cell_type": "code",
      "source": [
        "from nltk.tokenize import WordPunctTokenizer\n",
        "WordPunctTokenizer().tokenize(\" Don't hesitate to ask questions\")"
      ],
      "metadata": {
        "colab": {
          "base_uri": "https://localhost:8080/"
        },
        "id": "Jiv3ZOi24iIT",
        "outputId": "0a1aba98-f91d-4bcc-fa6c-35553a0d1fbc"
      },
      "id": "Jiv3ZOi24iIT",
      "execution_count": null,
      "outputs": [
        {
          "output_type": "execute_result",
          "data": {
            "text/plain": [
              "['Don', \"'\", 't', 'hesitate', 'to', 'ask', 'questions']"
            ]
          },
          "metadata": {},
          "execution_count": 17
        }
      ]
    },
    {
      "cell_type": "markdown",
      "source": [
        "Another word tokenizer is WordPunctTokenizer . It\n",
        "provides splitting by making punctuation an entirely new token. This is shown here:"
      ],
      "metadata": {
        "id": "X7-9-mDR4cW0"
      },
      "id": "X7-9-mDR4cW0"
    },
    {
      "cell_type": "code",
      "execution_count": null,
      "id": "passing-covering",
      "metadata": {
        "colab": {
          "base_uri": "https://localhost:8080/"
        },
        "id": "passing-covering",
        "outputId": "e5cd3e3d-56ac-4c89-f657-f6368516369a"
      },
      "outputs": [
        {
          "output_type": "execute_result",
          "data": {
            "text/plain": [
              "['Don', \"'\", 't', 'hesitate', 'to', 'ask', 'questions']"
            ]
          },
          "metadata": {},
          "execution_count": 15
        }
      ],
      "source": [
        "tokenizer= nltk.WordPunctTokenizer()\n",
        "tokenizer.tokenize(\" Don't hesitate to ask questions\")\n"
      ]
    },
    {
      "cell_type": "markdown",
      "source": [
        "You can also do it \"manually\" with regex by matching with spaces or gaps :  "
      ],
      "metadata": {
        "id": "tMM5mqVE4_Oc"
      },
      "id": "tMM5mqVE4_Oc"
    },
    {
      "cell_type": "code",
      "source": [
        "tokenizer=RegexpTokenizer(\"[\\w]+\")\n",
        "tokenizer.tokenize(\"Don't hesitate to ask questions\")\n",
        "[\"Don't\", 'hesitate', 'to', 'ask', 'questions']"
      ],
      "metadata": {
        "colab": {
          "base_uri": "https://localhost:8080/"
        },
        "id": "6YIcOvaF5Xu-",
        "outputId": "156f3a33-06d4-4586-97b2-b57f51def4f1"
      },
      "id": "6YIcOvaF5Xu-",
      "execution_count": null,
      "outputs": [
        {
          "output_type": "execute_result",
          "data": {
            "text/plain": [
              "[\"Don't\", 'hesitate', 'to', 'ask', 'questions']"
            ]
          },
          "metadata": {},
          "execution_count": 21
        }
      ]
    },
    {
      "cell_type": "code",
      "execution_count": null,
      "id": "taken-letter",
      "metadata": {
        "colab": {
          "base_uri": "https://localhost:8080/"
        },
        "id": "taken-letter",
        "outputId": "7bb1bb2c-c59f-494d-b86c-5bcf7dcf01ab"
      },
      "outputs": [
        {
          "output_type": "stream",
          "name": "stdout",
          "text": [
            "['Don', \"'t\", 'hesitate', 'to', 'ask', 'questions']\n"
          ]
        }
      ],
      "source": [
        "sent=\"Don't hesitate to ask questions\"\n",
        "print(regexp_tokenize(sent, pattern='\\w+|\\$[\\d\\.]+|\\S+'))\n"
      ]
    },
    {
      "cell_type": "markdown",
      "source": [
        "### Deal with stopwords :\n",
        "\n",
        "Stop words are commonly used in Text Mining and Natural Language Processing (NLP) to eliminate words that are so widely used that they carry very little useful information."
      ],
      "metadata": {
        "id": "CytSO9_Q6iKG"
      },
      "id": "CytSO9_Q6iKG"
    },
    {
      "cell_type": "code",
      "execution_count": null,
      "id": "operational-central",
      "metadata": {
        "colab": {
          "base_uri": "https://localhost:8080/"
        },
        "id": "operational-central",
        "outputId": "d4da6c15-f0ff-4207-f0e2-5e8b2abb401f"
      },
      "outputs": [
        {
          "output_type": "execute_result",
          "data": {
            "text/plain": [
              "[\"Don't\", 'hesitate', 'ask', 'questions']"
            ]
          },
          "metadata": {},
          "execution_count": 27
        }
      ],
      "source": [
        "stops=set(stopwords.words('english'))\n",
        "words=[\"Don't\", 'hesitate','to','ask','questions']\n",
        "[word for word in words if word not in stops]"
      ]
    },
    {
      "cell_type": "code",
      "execution_count": null,
      "id": "analyzed-kitchen",
      "metadata": {
        "colab": {
          "base_uri": "https://localhost:8080/"
        },
        "id": "analyzed-kitchen",
        "outputId": "85f79270-e2f9-4cf8-ee4c-da760573c698"
      },
      "outputs": [
        {
          "output_type": "execute_result",
          "data": {
            "text/plain": [
              "['arabic',\n",
              " 'azerbaijani',\n",
              " 'basque',\n",
              " 'bengali',\n",
              " 'catalan',\n",
              " 'chinese',\n",
              " 'danish',\n",
              " 'dutch',\n",
              " 'english',\n",
              " 'finnish',\n",
              " 'french',\n",
              " 'german',\n",
              " 'greek',\n",
              " 'hebrew',\n",
              " 'hinglish',\n",
              " 'hungarian',\n",
              " 'indonesian',\n",
              " 'italian',\n",
              " 'kazakh',\n",
              " 'nepali',\n",
              " 'norwegian',\n",
              " 'portuguese',\n",
              " 'romanian',\n",
              " 'russian',\n",
              " 'slovene',\n",
              " 'spanish',\n",
              " 'swedish',\n",
              " 'tajik',\n",
              " 'turkish']"
            ]
          },
          "metadata": {},
          "execution_count": 30
        }
      ],
      "source": [
        "#list of langage where we can remove the stopwords.\n",
        "stopwords.fileids()\n"
      ]
    },
    {
      "cell_type": "markdown",
      "source": [
        "### Example of text replacement with another text :"
      ],
      "metadata": {
        "id": "x3FbYOaB8S2V"
      },
      "id": "x3FbYOaB8S2V"
    },
    {
      "cell_type": "code",
      "execution_count": null,
      "id": "environmental-possibility",
      "metadata": {
        "colab": {
          "base_uri": "https://localhost:8080/"
        },
        "id": "environmental-possibility",
        "outputId": "1d6ece19-1f9a-46d6-f270-9ab2bda36ceb"
      },
      "outputs": [
        {
          "output_type": "stream",
          "name": "stdout",
          "text": [
            "do not hesitate to ask questions.\n",
            "She must have gone to the market but she did not go.\n",
            "['do', 'not', 'hesitate', 'to', 'ask', 'questions']\n"
          ]
        }
      ],
      "source": [
        "replacement_patterns = [\n",
        "(r'don\\'t', 'do not'),\n",
        "(r'didn\\'t', 'did not'),\n",
        "(r'can\\'t', 'cannot'),\n",
        "(r\"must've\",\"must have\")\n",
        "]\n",
        "\n",
        "class RegexpReplacer(object):\n",
        "   def __init__(self, patterns=replacement_patterns):\n",
        "      self.patterns = [(re.compile(regex), repl) for (regex, repl) in patterns]\n",
        "\n",
        "   def replace(self, text):\n",
        "      s = text\n",
        "      for (pattern, repl) in self.patterns:\n",
        "           s = re.sub(pattern, repl, s)\n",
        "      return s\n",
        "\n",
        "replacer=RegexpReplacer()\n",
        "print(replacer.replace(\"don't hesitate to ask questions.\"))\n",
        "print(replacer.replace(\"She must've gone to the market but she didn't go.\"))\n",
        "print(word_tokenize(replacer.replace(\"don't hesitate to ask questions\")))\n"
      ]
    },
    {
      "cell_type": "markdown",
      "id": "desperate-botswana",
      "metadata": {
        "id": "desperate-botswana"
      },
      "source": [
        "### Lemmatization :\n",
        "\n",
        "Lemmatization is the process in which we transform the word into a form with a different word\n",
        "category. The word formed after lemmatization is entirely different. The built-in morphy() function\n",
        "is used for lemmatization in WordNetLemmatizer. The inputted word is left unchanged if it is not\n",
        "found in WordNet. In the argument, pos refers to the part of speech category of the inputted word."
      ]
    },
    {
      "cell_type": "markdown",
      "source": [
        "The WordNetLemmatizer library may be defined as a wrapper around the so-called WordNet\n",
        "corpus, and it makes use of the morphy() function present in WordNetCorpusReader to extract a\n",
        "lemma. If no lemma is extracted, then the word is only returned in its original form. For example,\n",
        "for works , the lemma returned is the singular form, work ."
      ],
      "metadata": {
        "id": "Q-FuRWMa-etG"
      },
      "id": "Q-FuRWMa-etG"
    },
    {
      "cell_type": "code",
      "execution_count": null,
      "id": "upper-constitution",
      "metadata": {
        "id": "upper-constitution"
      },
      "outputs": [],
      "source": [
        "lemmatizer_output=WordNetLemmatizer()"
      ]
    },
    {
      "cell_type": "code",
      "execution_count": null,
      "id": "speaking-sister",
      "metadata": {
        "colab": {
          "base_uri": "https://localhost:8080/"
        },
        "id": "speaking-sister",
        "outputId": "6c0a09d8-9681-4a20-b7f5-8a23cc3e5b12"
      },
      "outputs": [
        {
          "output_type": "stream",
          "name": "stdout",
          "text": [
            "lematization of 'working':  working\n",
            "lematization in the base form of the verb of 'working': work\n",
            "lematization of 'works': work\n"
          ]
        }
      ],
      "source": [
        "print(\"lematization of 'working': \",lemmatizer_output.lemmatize('working'))\n",
        "print(\"lematization in the base form of the verb of 'working':\",lemmatizer_output.lemmatize('working',pos='v'))\n",
        "print(\"lematization of 'works':\",lemmatizer_output.lemmatize('works'))\n"
      ]
    },
    {
      "cell_type": "markdown",
      "source": [
        "### Stemming :\n",
        "\n",
        "Stemming is a text preprocessing technique in natural language processing (NLP). Specifically, it is the process of reducing inflected form of a word to one so-called “stem,” or root form.\n",
        "\n",
        " The practical distinction between stemming and lemmatization is that, where stemming merely removes common suffixes from the end of word tokens, lemmatization ensures the output word is an existing normalized form of the word (i.e. lemma) that can be found in the dictionary."
      ],
      "metadata": {
        "id": "W8Yf5wQCAU9Q"
      },
      "id": "W8Yf5wQCAU9Q"
    },
    {
      "cell_type": "code",
      "execution_count": null,
      "id": "integrated-massage",
      "metadata": {
        "id": "integrated-massage",
        "colab": {
          "base_uri": "https://localhost:8080/"
        },
        "outputId": "90316053-8795-4ba3-f264-3b5ee6f26174"
      },
      "outputs": [
        {
          "output_type": "stream",
          "name": "stdout",
          "text": [
            "stemming of 'happiness': happi\n",
            "lemmatization of 'happiness': happiness\n"
          ]
        }
      ],
      "source": [
        "stemmer_output=PorterStemmer()\n",
        "print(\"stemming of 'happiness':\",stemmer_output.stem('happiness'))\n",
        "print(\"lemmatization of 'happiness':\",lemmatizer_output.lemmatize('happiness'))"
      ]
    },
    {
      "cell_type": "markdown",
      "id": "geographic-korea",
      "metadata": {
        "id": "geographic-korea"
      },
      "source": [
        "### Similarity measure\n",
        "\n",
        "Some of the most common ways to capture similarity between text units are:\n",
        "- Longest Common Substring (LCS)\n",
        "- Levenshtein Edit Distance\n",
        "- Hamming Distance\n",
        "- Cosine Similarity\n",
        "- Jaccard Distance\n",
        "- Euclidean Distance\n",
        "\n",
        "For an example we will use Levenshtein edit-distance between two strings. The edit distance is the number of characters that need to be substituted, inserted, or deleted, to transform s1 into s2. For example, transforming “rain” to “shine” requires three steps, consisting of two substitutions and one insertion: “rain” -> “sain” -> “shin” -> “shine”. These operations could have been done in other orders, but at least three steps are needed."
      ]
    },
    {
      "cell_type": "code",
      "execution_count": null,
      "id": "regulated-valve",
      "metadata": {
        "id": "regulated-valve",
        "outputId": "fd83aa76-d4ef-4a55-9130-2b4a62e4535f",
        "colab": {
          "base_uri": "https://localhost:8080/"
        }
      },
      "outputs": [
        {
          "output_type": "stream",
          "name": "stdout",
          "text": [
            "similarity with distance between 'relate' and 'relation' 3\n",
            "similarity with distance between 'suggestion' and 'calculation' 7\n"
          ]
        }
      ],
      "source": [
        "print(\"similarity with distance between 'relate' and 'relation'\",edit_distance(\"relate\",\"relation\"))\n",
        "print(\"similarity with distance between 'suggestion' and 'calculation'\",edit_distance(\"suggestion\",\"calculation\"))\n"
      ]
    },
    {
      "cell_type": "raw",
      "id": "described-dispatch",
      "metadata": {
        "id": "described-dispatch"
      },
      "source": [
        "Applying similarity measures using Jaccard's Coefficient.\n",
        "Jaccard's coefficient, or Tanimoto coefficient, may be defined as a measure of the overlap of two\n",
        "sets, X and Y.\n",
        "It may be defined as follows:\n",
        "\n",
        "*   Jaccard(X,Y)=|X∩Y|/|XUY|\n",
        "*   Jaccard(X,X)=1\n",
        "*   Jaccard(X,Y)=0 if X∩Y=0\n",
        "\n",
        "note: to use Jaccard you have to use a set.\n",
        "\n"
      ]
    },
    {
      "cell_type": "code",
      "execution_count": null,
      "id": "hispanic-laugh",
      "metadata": {
        "id": "hispanic-laugh",
        "outputId": "cbfe1261-ab08-4df9-84ea-98cd7e057d43",
        "colab": {
          "base_uri": "https://localhost:8080/"
        }
      },
      "outputs": [
        {
          "output_type": "stream",
          "name": "stdout",
          "text": [
            "Jaccard's coefficient for distance with X=[10,20,30,40] and Y=[20,30,60]: 0.6\n",
            "Jaccard's coefficient for distance with 'similarity with Jaccard coef' and 'similarity with Tanimoto': 0.4\n"
          ]
        }
      ],
      "source": [
        "X=set([10,20,30,40])\n",
        "Y=set([20,30,60])\n",
        "print(\"Jaccard's coefficient for distance with X=[10,20,30,40] and Y=[20,30,60]:\",jaccard_distance(X,Y))\n",
        "print(\"Jaccard's coefficient for distance with 'similarity with Jaccard coef' and 'similarity with Tanimoto':\",td.jaccard('similarity with Jaccard coef'.split(), \"similarity with Tanimoto\".split()))"
      ]
    },
    {
      "cell_type": "markdown",
      "id": "plain-reason",
      "metadata": {
        "id": "plain-reason"
      },
      "source": [
        "### Frequency word analysis\n",
        "\n",
        "Generally we use frequency for TF-IDF (Term Frequency-Inverse Document Frequency). It is a commonly used weighting scheme in Natural Language Processing (NLP) that quantifies the importance of a term in a document or a collection of documents. TF-IDF takes into account both the frequency of a term within a document (term frequency) and its rarity across the entire document collection (inverse document frequency).\n",
        "\n",
        "We will see TF-IDF in another notebook.\n",
        "\n",
        "Here we will code a tool manually to analyze the word frequency."
      ]
    },
    {
      "cell_type": "code",
      "execution_count": null,
      "id": "constitutional-blond",
      "metadata": {
        "id": "constitutional-blond"
      },
      "outputs": [],
      "source": [
        "text1 = \"Elizabeth II (Elizabeth Alexandra Mary; 21 April 1926 – 8 September 2022) was Queen of the United Kingdom and other Commonwealth realms from 6 February 1952 until her death in 2022. She was queen regnant of 32 sovereign states during of his life and 15 at the time of his death. [a] Her reign of 70 years and 214 days is the longest of any British monarch and the longest recorded of any female head of state in history. \"+\"Elizabeth was born in Mayfair, London, as the first child of the Duke and Duchess of York (later King George VI and Queen Elizabeth). Her father came to the throne in 1936 upon the abdication of his brother, King Edward VIII, making Elizabeth heir presumptive. She was educated privately at home and began taking public office during World War II, serving in the Auxiliary Territorial Service. In November 1947, she married Philip Mountbatten, a former prince of Greece and Denmark, and their marriage lasted 73 years until his death in April 2021. They had four children: Charles, Anne, Andrew and Edward. \"+\"When her father died in February 1952, Elizabeth, then aged 25, became queen of seven independent Commonwealth countries: the United Kingdom, Canada, Australia, New Zealand, South Africa , Pakistan and Ceylon (known today as Sri Lanka). as well as head of the Commonwealth. Elizabeth reigned as a constitutional monarch through major political changes such as the Troubles in Northern Ireland, devolution in the United Kingdom, decolonization of Africa, and the United Kingdom's membership of the European Communities and withdrawal of the European Union. The number of its kingdoms varied over time as territories gained independence and some kingdoms became republics. His many historic visits and meetings include state visits to China in 1986, Russia in 1994 and the Republic of Ireland in 2011, as well as meetings with five popes. \" +\"Significant events include Elizabeth's coronation in 1953 and the celebrations of her silver, gold, diamond and platinum jubilees in 1977, 2002, 2012 and 2022, respectively. Elizabeth was the longest-serving British monarch and the second longest-reigning sovereign in world history, behind only Louis XIV of France. She sometimes faced republican sentiment and media criticism of her family, particularly after the breakdown of her children's marriages, her annus horribilis in 1992, and the death of her former daughter-in-law Diana, Princess of Wales, in 1997. However, support as the monarchy in the United Kingdom has remained consistently high, as has his personal popularity. Elizabeth died aged 96 at Balmoral Castle, Aberdeenshire in 2022, months after her platinum jubilee, and was succeeded by her eldest son, Charles III.\"\n",
        "list_word1 =[]\n",
        "text1=text1.lower()\n",
        "english_tokenizer=nltk.data.load('tokenizers/punkt/english.pickle')\n",
        "tok1 = english_tokenizer.tokenize(text1)\n",
        "for i in tok1:\n",
        "    list_word1+=nltk.word_tokenize(i)\n",
        "\n"
      ]
    },
    {
      "cell_type": "code",
      "execution_count": null,
      "id": "alien-newfoundland",
      "metadata": {
        "id": "alien-newfoundland"
      },
      "outputs": [],
      "source": [
        "freq = dict((i, list_word1.count(i)) for i in set(list_word1))"
      ]
    },
    {
      "cell_type": "code",
      "execution_count": null,
      "id": "significant-darkness",
      "metadata": {
        "id": "significant-darkness",
        "outputId": "ca8f4ecd-2f40-4d9a-c62d-b5fb14f3b4b5",
        "colab": {
          "base_uri": "https://localhost:8080/"
        }
      },
      "outputs": [
        {
          "output_type": "execute_result",
          "data": {
            "text/plain": [
              "{'her': 11,\n",
              " \"'s\": 3,\n",
              " ',': 40,\n",
              " 'was': 6,\n",
              " ')': 3,\n",
              " 'a': 3,\n",
              " 'monarch': 3,\n",
              " 'of': 25,\n",
              " 'kingdom': 5,\n",
              " 'she': 4,\n",
              " 'as': 11,\n",
              " 'in': 20,\n",
              " '2022': 3,\n",
              " 'his': 6,\n",
              " 'commonwealth': 3,\n",
              " 'elizabeth': 10,\n",
              " 'queen': 4,\n",
              " 'the': 25,\n",
              " '.': 15,\n",
              " 'at': 3,\n",
              " 'and': 23,\n",
              " 'united': 5,\n",
              " 'death': 4,\n",
              " '(': 3}"
            ]
          },
          "metadata": {},
          "execution_count": 60
        }
      ],
      "source": [
        "too_freq_word = {k:v for k,v in freq.items() if v>=3 }#and len(k)<7}\n",
        "too_freq_word"
      ]
    },
    {
      "cell_type": "code",
      "execution_count": null,
      "id": "bulgarian-riding",
      "metadata": {
        "id": "bulgarian-riding",
        "outputId": "d4eecd18-1e0c-452d-fcfd-4970ad875495",
        "colab": {
          "base_uri": "https://localhost:8080/"
        }
      },
      "outputs": [
        {
          "output_type": "stream",
          "name": "stdout",
          "text": [
            "important and long words (that are generally meaningful) : {'monarch': 3, 'kingdom': 5, 'commonwealth': 3, 'elizabeth': 10, 'united': 5}\n"
          ]
        }
      ],
      "source": [
        "too_freq_word = {k:v for k,v in freq.items() if v>=3 and len(k)>5 and k.isnumeric()==False}\n",
        "print(\"important and long words (that are generally meaningful) :\",too_freq_word)\n"
      ]
    },
    {
      "cell_type": "code",
      "execution_count": null,
      "id": "direct-engagement",
      "metadata": {
        "id": "direct-engagement",
        "outputId": "c2cd680c-0b51-4c47-c382-2325d3236d2b",
        "colab": {
          "base_uri": "https://localhost:8080/"
        }
      },
      "outputs": [
        {
          "output_type": "stream",
          "name": "stdout",
          "text": [
            "sequence of usual words:\n"
          ]
        },
        {
          "output_type": "execute_result",
          "data": {
            "text/plain": [
              "{('united', 'kingdom'): 5,\n",
              " ('.', 'elizabeth'): 4,\n",
              " ('of', 'the'): 5,\n",
              " ('and', 'the'): 6,\n",
              " ('of', 'his'): 3,\n",
              " ('in', 'the'): 3,\n",
              " ('of', 'her'): 4,\n",
              " ('as', 'the'): 3,\n",
              " (',', 'and'): 4,\n",
              " (',', 'as'): 3,\n",
              " ('the', 'united'): 5}"
            ]
          },
          "metadata": {},
          "execution_count": 62
        }
      ],
      "source": [
        "# sequence of usual words\n",
        "print(\"sequence of usual words:\")\n",
        "suite_word = list(nltk.bigrams(list_word1))\n",
        "suite_word_pop = dict((i, suite_word.count(i)) for i in set(suite_word))\n",
        "too_freq_suite_word = {k:v for k,v in suite_word_pop.items() if v>=3}\n",
        "too_freq_suite_word"
      ]
    },
    {
      "cell_type": "markdown",
      "id": "satisfied-charlotte",
      "metadata": {
        "id": "satisfied-charlotte"
      },
      "source": [
        "# Homework\n",
        "\n",
        "Importation of two similar texts (text1 and text2) and one very different text (text3)."
      ]
    },
    {
      "cell_type": "code",
      "execution_count": null,
      "id": "completed-electronics",
      "metadata": {
        "id": "completed-electronics"
      },
      "outputs": [],
      "source": [
        "text1 = \"Elizabeth II (Elizabeth Alexandra Mary; 21 April 1926 – 8 September 2022) was Queen of the United Kingdom and other Commonwealth realms from 6 February 1952 until her death in 2022. She was queen regnant of 32 sovereign states during of his life and 15 at the time of his death. [a] Her reign of 70 years and 214 days is the longest of any British monarch and the longest recorded of any female head of state in history. \"+\"Elizabeth was born in Mayfair, London, as the first child of the Duke and Duchess of York (later King George VI and Queen Elizabeth). Her father came to the throne in 1936 upon the abdication of his brother, King Edward VIII, making Elizabeth heir presumptive. She was educated privately at home and began taking public office during World War II, serving in the Auxiliary Territorial Service. In November 1947, she married Philip Mountbatten, a former prince of Greece and Denmark, and their marriage lasted 73 years until his death in April 2021. They had four children: Charles, Anne, Andrew and Edward. \"+\"When her father died in February 1952, Elizabeth, then aged 25, became queen of seven independent Commonwealth countries: the United Kingdom, Canada, Australia, New Zealand, South Africa , Pakistan and Ceylon (known today as Sri Lanka). as well as head of the Commonwealth. Elizabeth reigned as a constitutional monarch through major political changes such as the Troubles in Northern Ireland, devolution in the United Kingdom, decolonization of Africa, and the United Kingdom's membership of the European Communities and withdrawal of the European Union. The number of its kingdoms varied over time as territories gained independence and some kingdoms became republics. His many historic visits and meetings include state visits to China in 1986, Russia in 1994 and the Republic of Ireland in 2011, as well as meetings with five popes. \" +\"Significant events include Elizabeth's coronation in 1953 and the celebrations of her silver, gold, diamond and platinum jubilees in 1977, 2002, 2012 and 2022, respectively. Elizabeth was the longest-serving British monarch and the second longest-reigning sovereign in world history, behind only Louis XIV of France. She sometimes faced republican sentiment and media criticism of her family, particularly after the breakdown of her children's marriages, her annus horribilis in 1992, and the death of her former daughter-in-law Diana, Princess of Wales, in 1997. However, support as the monarchy in the United Kingdom has remained consistently high, as has his personal popularity. Elizabeth died aged 96 at Balmoral Castle, Aberdeenshire in 2022, months after her platinum jubilee, and was succeeded by her eldest son, Charles III.\""
      ]
    },
    {
      "cell_type": "code",
      "execution_count": null,
      "id": "digital-kazakhstan",
      "metadata": {
        "id": "digital-kazakhstan",
        "outputId": "50f71fd9-e796-48ea-ce40-5ea5964f75e8",
        "colab": {
          "base_uri": "https://localhost:8080/",
          "height": 124
        }
      },
      "outputs": [
        {
          "output_type": "execute_result",
          "data": {
            "text/plain": [
              "\"Elizabeth II (Elizabeth Alexandra Mary; 21 April 1926 – 8 September 2022) was Queen of the United Kingdom and other Commonwealth realms from 6 February 1952 until her death in 2022. She was queen regnant of 32 sovereign states during of his life and 15 at the time of his death. [a] Her reign of 70 years and 214 days is the longest of any British monarch and the longest recorded of any female head of state in history. Elizabeth was born in Mayfair, London, as the first child of the Duke and Duchess of York (later King George VI and Queen Elizabeth). Her father came to the throne in 1936 upon the abdication of his brother, King Edward VIII, making Elizabeth heir presumptive. She was educated privately at home and began taking public office during World War II, serving in the Auxiliary Territorial Service. In November 1947, she married Philip Mountbatten, a former prince of Greece and Denmark, and their marriage lasted 73 years until his death in April 2021. They had four children: Charles, Anne, Andrew and Edward. When her father died in February 1952, Elizabeth, then aged 25, became queen of seven independent Commonwealth countries: the United Kingdom, Canada, Australia, New Zealand, South Africa , Pakistan and Ceylon (known today as Sri Lanka). as well as head of the Commonwealth. Elizabeth reigned as a constitutional monarch through major political changes such as the Troubles in Northern Ireland, devolution in the United Kingdom, decolonization of Africa, and the United Kingdom's membership of the European Communities and withdrawal of the European Union. The number of its kingdoms varied over time as territories gained independence and some kingdoms became republics. His many historic visits and meetings include state visits to China in 1986, Russia in 1994 and the Republic of Ireland in 2011, as well as meetings with five popes. Significant events include Elizabeth's coronation in 1953 and the celebrations of her silver, gold, diamond and platinum jubilees in 1977, 2002, 2012 and 2022, respectively. Elizabeth was the longest-serving British monarch and the second longest-reigning sovereign in world history, behind only Louis XIV of France. She sometimes faced republican sentiment and media criticism of her family, particularly after the breakdown of her children's marriages, her annus horribilis in 1992, and the death of her former daughter-in-law Diana, Princess of Wales, in 1997. However, support as the monarchy in the United Kingdom has remained consistently high, as has his personal popularity. Elizabeth died aged 96 at Balmoral Castle, Aberdeenshire in 2022, months after her platinum jubilee, and was succeeded by her eldest son, Charles III.\""
            ],
            "application/vnd.google.colaboratory.intrinsic+json": {
              "type": "string"
            }
          },
          "metadata": {},
          "execution_count": 51
        }
      ],
      "source": [
        "text1"
      ]
    },
    {
      "cell_type": "code",
      "execution_count": null,
      "id": "knowing-hierarchy",
      "metadata": {
        "id": "knowing-hierarchy"
      },
      "outputs": [],
      "source": [
        "text2 = \"Elizabeth II (pronounced in French /elizabɛt/a; in English: Elizabeth II, pronounced /əˈlɪzəbəθ/b), born April 21, 1926 in Mayfair (London) and died September 8, 2022 at Balmoral Castle (Scotland), is queen of the United Kingdom of Great Britain and Northern Ireland and the other Commonwealth Realms from 6 February 1952 until his death. At birth, she was third in line to the throne after her uncle and her father. In 1936, his uncle became king but abdicated a few months later, leaving the throne to his younger brother. Princess Elizabeth then became, at the age of 10, heir presumptive to the British Crown. During the Second World War, she enlisted in the Auxiliary Territorial Service. On November 20, 1947, she married Philip Mountbatten, Prince of Greece and Denmark, with whom she had four children: Charles, Anne, Andrew and Edward. She acceded to the British throne on February 6, 1952, at the age of 25, on the death of George VI. His coronation, on June 2, 1953, was the first to be broadcast on television. She becomes the sovereign of seven independent Commonwealth states: South Africa, Australia, Canada, Ceylon, New Zealand, Pakistan and the United Kingdom. Between 1956 and 2021, the number of its kingdoms increases and decreases at the same time: colonies of the British Empire gain independence, choose whether or not to recognize Queen Elizabeth II as the symbolic sovereign of their new independent state ; some kingdoms also became republics. In the year of her death, in addition to the aforementioned Australia, Canada, New Zealand and the United Kingdom, Elizabeth II was Queen of Antigua and Barbuda, the Bahamas, Belize, Grenada , Jamaica, Papua New Guinea, Saint Kitts and Nevis, Saint Vincent and the Grenadines, Saint Lucia, Solomon Islands and Tuvalu. During a long reign in which she saw fifteen different British Prime Ministers succeed one another, she made numerous historic visits and oversaw several constitutional changes in her kingdoms, such as the devolution of power to the United Kingdom and the patriation of the Constitution of Canada . She also experienced difficult times, including the assassination of Prince Philip's uncle and mentor, Lord Mountbatten, in 1979, and the separations and divorce of three of her children in 1992 (a year she describes as annus horribilis). , the death of her daughter-in-law, Diana Spencer, in 1997, the almost simultaneous deaths of her sister and mother in 2002, as well as the death of her husband in 2021 after more than 73 years of marriage. Furthermore, the Queen has sometimes had to face harsh criticism of the royal family from the press, but support for the monarchy and her personal popularity remain high among the British population. On September 9, 2015, she became the longest-reigning British sovereign. She reigned for 70 years, 7 months and 2 days, exceeding the reign of her great-great-grandmother Queen Victoria (63 years, 7 months and 2 days). On October 13, 2016, following the death of Thailand's King Rama IX, she became the longest-reigning and oldest sovereign in office. At the start of June 2022, she becomes the first monarch in the history of the United Kingdom to celebrate her platinum jubilee, which marks the 70th anniversary of her accession to the throne. She then became the second monarch of the modern era to have had the longest reign, behind the King of France Louis XIV. She died three months later, on September 8, 2022, at the age of 96; his eldest son succeeded him under the name of Charles III.\""
      ]
    },
    {
      "cell_type": "code",
      "execution_count": null,
      "id": "selective-percentage",
      "metadata": {
        "id": "selective-percentage",
        "outputId": "7fb388c4-cf81-4093-b73e-a171d5f701b1",
        "colab": {
          "base_uri": "https://localhost:8080/",
          "height": 124
        }
      },
      "outputs": [
        {
          "output_type": "execute_result",
          "data": {
            "text/plain": [
              "\"Elizabeth II (pronounced in French /elizabɛt/a; in English: Elizabeth II, pronounced /əˈlɪzəbəθ/b), born April 21, 1926 in Mayfair (London) and died September 8, 2022 at Balmoral Castle (Scotland), is queen of the United Kingdom of Great Britain and Northern Ireland and the other Commonwealth Realms from 6 February 1952 until his death. At birth, she was third in line to the throne after her uncle and her father. In 1936, his uncle became king but abdicated a few months later, leaving the throne to his younger brother. Princess Elizabeth then became, at the age of 10, heir presumptive to the British Crown. During the Second World War, she enlisted in the Auxiliary Territorial Service. On November 20, 1947, she married Philip Mountbatten, Prince of Greece and Denmark, with whom she had four children: Charles, Anne, Andrew and Edward. She acceded to the British throne on February 6, 1952, at the age of 25, on the death of George VI. His coronation, on June 2, 1953, was the first to be broadcast on television. She becomes the sovereign of seven independent Commonwealth states: South Africa, Australia, Canada, Ceylon, New Zealand, Pakistan and the United Kingdom. Between 1956 and 2021, the number of its kingdoms increases and decreases at the same time: colonies of the British Empire gain independence, choose whether or not to recognize Queen Elizabeth II as the symbolic sovereign of their new independent state ; some kingdoms also became republics. In the year of her death, in addition to the aforementioned Australia, Canada, New Zealand and the United Kingdom, Elizabeth II was Queen of Antigua and Barbuda, the Bahamas, Belize, Grenada , Jamaica, Papua New Guinea, Saint Kitts and Nevis, Saint Vincent and the Grenadines, Saint Lucia, Solomon Islands and Tuvalu. During a long reign in which she saw fifteen different British Prime Ministers succeed one another, she made numerous historic visits and oversaw several constitutional changes in her kingdoms, such as the devolution of power to the United Kingdom and the patriation of the Constitution of Canada . She also experienced difficult times, including the assassination of Prince Philip's uncle and mentor, Lord Mountbatten, in 1979, and the separations and divorce of three of her children in 1992 (a year she describes as annus horribilis). , the death of her daughter-in-law, Diana Spencer, in 1997, the almost simultaneous deaths of her sister and mother in 2002, as well as the death of her husband in 2021 after more than 73 years of marriage. Furthermore, the Queen has sometimes had to face harsh criticism of the royal family from the press, but support for the monarchy and her personal popularity remain high among the British population. On September 9, 2015, she became the longest-reigning British sovereign. She reigned for 70 years, 7 months and 2 days, exceeding the reign of her great-great-grandmother Queen Victoria (63 years, 7 months and 2 days). On October 13, 2016, following the death of Thailand's King Rama IX, she became the longest-reigning and oldest sovereign in office. At the start of June 2022, she becomes the first monarch in the history of the United Kingdom to celebrate her platinum jubilee, which marks the 70th anniversary of her accession to the throne. She then became the second monarch of the modern era to have had the longest reign, behind the King of France Louis XIV. She died three months later, on September 8, 2022, at the age of 96; his eldest son succeeded him under the name of Charles III.\""
            ],
            "application/vnd.google.colaboratory.intrinsic+json": {
              "type": "string"
            }
          },
          "metadata": {},
          "execution_count": 53
        }
      ],
      "source": [
        "text2"
      ]
    },
    {
      "cell_type": "code",
      "execution_count": null,
      "id": "current-hammer",
      "metadata": {
        "id": "current-hammer"
      },
      "outputs": [],
      "source": [
        "text1=text1.lower()\n",
        "text2=text2.lower()\n"
      ]
    },
    {
      "cell_type": "code",
      "execution_count": null,
      "id": "compact-atlantic",
      "metadata": {
        "id": "compact-atlantic"
      },
      "outputs": [],
      "source": [
        "english_tokenizer=nltk.data.load('tokenizers/punkt/english.pickle')\n",
        "tok1 = english_tokenizer.tokenize(text1)\n",
        "tok2 = english_tokenizer.tokenize(text2)"
      ]
    },
    {
      "cell_type": "code",
      "execution_count": null,
      "id": "bottom-peace",
      "metadata": {
        "id": "bottom-peace",
        "outputId": "2e18c96a-f244-4075-be01-f5229225120a",
        "colab": {
          "base_uri": "https://localhost:8080/"
        }
      },
      "outputs": [
        {
          "output_type": "execute_result",
          "data": {
            "text/plain": [
              "['elizabeth ii (elizabeth alexandra mary; 21 april 1926 – 8 september 2022) was queen of the united kingdom and other commonwealth realms from 6 february 1952 until her death in 2022. she was queen regnant of 32 sovereign states during of his life and 15 at the time of his death.',\n",
              " '[a] her reign of 70 years and 214 days is the longest of any british monarch and the longest recorded of any female head of state in history.',\n",
              " 'elizabeth was born in mayfair, london, as the first child of the duke and duchess of york (later king george vi and queen elizabeth).',\n",
              " 'her father came to the throne in 1936 upon the abdication of his brother, king edward viii, making elizabeth heir presumptive.',\n",
              " 'she was educated privately at home and began taking public office during world war ii, serving in the auxiliary territorial service.',\n",
              " 'in november 1947, she married philip mountbatten, a former prince of greece and denmark, and their marriage lasted 73 years until his death in april 2021. they had four children: charles, anne, andrew and edward.',\n",
              " 'when her father died in february 1952, elizabeth, then aged 25, became queen of seven independent commonwealth countries: the united kingdom, canada, australia, new zealand, south africa , pakistan and ceylon (known today as sri lanka).',\n",
              " 'as well as head of the commonwealth.',\n",
              " \"elizabeth reigned as a constitutional monarch through major political changes such as the troubles in northern ireland, devolution in the united kingdom, decolonization of africa, and the united kingdom's membership of the european communities and withdrawal of the european union.\",\n",
              " 'the number of its kingdoms varied over time as territories gained independence and some kingdoms became republics.',\n",
              " 'his many historic visits and meetings include state visits to china in 1986, russia in 1994 and the republic of ireland in 2011, as well as meetings with five popes.',\n",
              " \"significant events include elizabeth's coronation in 1953 and the celebrations of her silver, gold, diamond and platinum jubilees in 1977, 2002, 2012 and 2022, respectively.\",\n",
              " 'elizabeth was the longest-serving british monarch and the second longest-reigning sovereign in world history, behind only louis xiv of france.',\n",
              " \"she sometimes faced republican sentiment and media criticism of her family, particularly after the breakdown of her children's marriages, her annus horribilis in 1992, and the death of her former daughter-in-law diana, princess of wales, in 1997. however, support as the monarchy in the united kingdom has remained consistently high, as has his personal popularity.\",\n",
              " 'elizabeth died aged 96 at balmoral castle, aberdeenshire in 2022, months after her platinum jubilee, and was succeeded by her eldest son, charles iii.']"
            ]
          },
          "metadata": {},
          "execution_count": 66
        }
      ],
      "source": [
        "tok1\n"
      ]
    },
    {
      "cell_type": "markdown",
      "id": "lyric-hartford",
      "metadata": {
        "id": "lyric-hartford"
      },
      "source": [
        "## Find the two nearest sentences in the text 1 and 2"
      ]
    },
    {
      "cell_type": "markdown",
      "id": "durable-yukon",
      "metadata": {
        "id": "durable-yukon"
      },
      "source": [
        "### First try with Levenshtein Edit Distance only"
      ]
    },
    {
      "cell_type": "code",
      "execution_count": null,
      "id": "cleared-hormone",
      "metadata": {
        "id": "cleared-hormone",
        "outputId": "7c776722-9141-4403-c782-59c3dfa15211",
        "colab": {
          "base_uri": "https://localhost:8080/",
          "height": 423
        }
      },
      "outputs": [
        {
          "output_type": "execute_result",
          "data": {
            "text/plain": [
              "                                           1_sentences  \\\n",
              "0    elizabeth died aged 96 at balmoral castle, abe...   \n",
              "1    elizabeth died aged 96 at balmoral castle, abe...   \n",
              "2    elizabeth died aged 96 at balmoral castle, abe...   \n",
              "3    elizabeth died aged 96 at balmoral castle, abe...   \n",
              "4    elizabeth died aged 96 at balmoral castle, abe...   \n",
              "..                                                 ...   \n",
              "310  elizabeth ii (elizabeth alexandra mary; 21 apr...   \n",
              "311  elizabeth ii (elizabeth alexandra mary; 21 apr...   \n",
              "312  elizabeth ii (elizabeth alexandra mary; 21 apr...   \n",
              "313  elizabeth ii (elizabeth alexandra mary; 21 apr...   \n",
              "314  elizabeth ii (elizabeth alexandra mary; 21 apr...   \n",
              "\n",
              "                                           2_sentences  comparison_score_edit  \n",
              "0    she died three months later, on september 8, 2...                     90  \n",
              "1    she then became the second monarch of the mode...                    112  \n",
              "2    at the start of june 2022, she becomes the fir...                    132  \n",
              "3    on october 13, 2016, following the death of th...                    115  \n",
              "4    she reigned for 70 years, 7 months and 2 days,...                    123  \n",
              "..                                                 ...                    ...  \n",
              "310  during the second world war, she enlisted in t...                    228  \n",
              "311  princess elizabeth then became, at the age of ...                    221  \n",
              "312  in 1936, his uncle became king but abdicated a...                    218  \n",
              "313  at birth, she was third in line to the throne ...                    220  \n",
              "314  elizabeth ii (pronounced in french /elizabɛt/a...                    244  \n",
              "\n",
              "[315 rows x 3 columns]"
            ],
            "text/html": [
              "\n",
              "  <div id=\"df-f1a6b790-c6cc-479a-bb37-d45ef9a231ed\" class=\"colab-df-container\">\n",
              "    <div>\n",
              "<style scoped>\n",
              "    .dataframe tbody tr th:only-of-type {\n",
              "        vertical-align: middle;\n",
              "    }\n",
              "\n",
              "    .dataframe tbody tr th {\n",
              "        vertical-align: top;\n",
              "    }\n",
              "\n",
              "    .dataframe thead th {\n",
              "        text-align: right;\n",
              "    }\n",
              "</style>\n",
              "<table border=\"1\" class=\"dataframe\">\n",
              "  <thead>\n",
              "    <tr style=\"text-align: right;\">\n",
              "      <th></th>\n",
              "      <th>1_sentences</th>\n",
              "      <th>2_sentences</th>\n",
              "      <th>comparison_score_edit</th>\n",
              "    </tr>\n",
              "  </thead>\n",
              "  <tbody>\n",
              "    <tr>\n",
              "      <th>0</th>\n",
              "      <td>elizabeth died aged 96 at balmoral castle, abe...</td>\n",
              "      <td>she died three months later, on september 8, 2...</td>\n",
              "      <td>90</td>\n",
              "    </tr>\n",
              "    <tr>\n",
              "      <th>1</th>\n",
              "      <td>elizabeth died aged 96 at balmoral castle, abe...</td>\n",
              "      <td>she then became the second monarch of the mode...</td>\n",
              "      <td>112</td>\n",
              "    </tr>\n",
              "    <tr>\n",
              "      <th>2</th>\n",
              "      <td>elizabeth died aged 96 at balmoral castle, abe...</td>\n",
              "      <td>at the start of june 2022, she becomes the fir...</td>\n",
              "      <td>132</td>\n",
              "    </tr>\n",
              "    <tr>\n",
              "      <th>3</th>\n",
              "      <td>elizabeth died aged 96 at balmoral castle, abe...</td>\n",
              "      <td>on october 13, 2016, following the death of th...</td>\n",
              "      <td>115</td>\n",
              "    </tr>\n",
              "    <tr>\n",
              "      <th>4</th>\n",
              "      <td>elizabeth died aged 96 at balmoral castle, abe...</td>\n",
              "      <td>she reigned for 70 years, 7 months and 2 days,...</td>\n",
              "      <td>123</td>\n",
              "    </tr>\n",
              "    <tr>\n",
              "      <th>...</th>\n",
              "      <td>...</td>\n",
              "      <td>...</td>\n",
              "      <td>...</td>\n",
              "    </tr>\n",
              "    <tr>\n",
              "      <th>310</th>\n",
              "      <td>elizabeth ii (elizabeth alexandra mary; 21 apr...</td>\n",
              "      <td>during the second world war, she enlisted in t...</td>\n",
              "      <td>228</td>\n",
              "    </tr>\n",
              "    <tr>\n",
              "      <th>311</th>\n",
              "      <td>elizabeth ii (elizabeth alexandra mary; 21 apr...</td>\n",
              "      <td>princess elizabeth then became, at the age of ...</td>\n",
              "      <td>221</td>\n",
              "    </tr>\n",
              "    <tr>\n",
              "      <th>312</th>\n",
              "      <td>elizabeth ii (elizabeth alexandra mary; 21 apr...</td>\n",
              "      <td>in 1936, his uncle became king but abdicated a...</td>\n",
              "      <td>218</td>\n",
              "    </tr>\n",
              "    <tr>\n",
              "      <th>313</th>\n",
              "      <td>elizabeth ii (elizabeth alexandra mary; 21 apr...</td>\n",
              "      <td>at birth, she was third in line to the throne ...</td>\n",
              "      <td>220</td>\n",
              "    </tr>\n",
              "    <tr>\n",
              "      <th>314</th>\n",
              "      <td>elizabeth ii (elizabeth alexandra mary; 21 apr...</td>\n",
              "      <td>elizabeth ii (pronounced in french /elizabɛt/a...</td>\n",
              "      <td>244</td>\n",
              "    </tr>\n",
              "  </tbody>\n",
              "</table>\n",
              "<p>315 rows × 3 columns</p>\n",
              "</div>\n",
              "    <div class=\"colab-df-buttons\">\n",
              "\n",
              "  <div class=\"colab-df-container\">\n",
              "    <button class=\"colab-df-convert\" onclick=\"convertToInteractive('df-f1a6b790-c6cc-479a-bb37-d45ef9a231ed')\"\n",
              "            title=\"Convert this dataframe to an interactive table.\"\n",
              "            style=\"display:none;\">\n",
              "\n",
              "  <svg xmlns=\"http://www.w3.org/2000/svg\" height=\"24px\" viewBox=\"0 -960 960 960\">\n",
              "    <path d=\"M120-120v-720h720v720H120Zm60-500h600v-160H180v160Zm220 220h160v-160H400v160Zm0 220h160v-160H400v160ZM180-400h160v-160H180v160Zm440 0h160v-160H620v160ZM180-180h160v-160H180v160Zm440 0h160v-160H620v160Z\"/>\n",
              "  </svg>\n",
              "    </button>\n",
              "\n",
              "  <style>\n",
              "    .colab-df-container {\n",
              "      display:flex;\n",
              "      gap: 12px;\n",
              "    }\n",
              "\n",
              "    .colab-df-convert {\n",
              "      background-color: #E8F0FE;\n",
              "      border: none;\n",
              "      border-radius: 50%;\n",
              "      cursor: pointer;\n",
              "      display: none;\n",
              "      fill: #1967D2;\n",
              "      height: 32px;\n",
              "      padding: 0 0 0 0;\n",
              "      width: 32px;\n",
              "    }\n",
              "\n",
              "    .colab-df-convert:hover {\n",
              "      background-color: #E2EBFA;\n",
              "      box-shadow: 0px 1px 2px rgba(60, 64, 67, 0.3), 0px 1px 3px 1px rgba(60, 64, 67, 0.15);\n",
              "      fill: #174EA6;\n",
              "    }\n",
              "\n",
              "    .colab-df-buttons div {\n",
              "      margin-bottom: 4px;\n",
              "    }\n",
              "\n",
              "    [theme=dark] .colab-df-convert {\n",
              "      background-color: #3B4455;\n",
              "      fill: #D2E3FC;\n",
              "    }\n",
              "\n",
              "    [theme=dark] .colab-df-convert:hover {\n",
              "      background-color: #434B5C;\n",
              "      box-shadow: 0px 1px 3px 1px rgba(0, 0, 0, 0.15);\n",
              "      filter: drop-shadow(0px 1px 2px rgba(0, 0, 0, 0.3));\n",
              "      fill: #FFFFFF;\n",
              "    }\n",
              "  </style>\n",
              "\n",
              "    <script>\n",
              "      const buttonEl =\n",
              "        document.querySelector('#df-f1a6b790-c6cc-479a-bb37-d45ef9a231ed button.colab-df-convert');\n",
              "      buttonEl.style.display =\n",
              "        google.colab.kernel.accessAllowed ? 'block' : 'none';\n",
              "\n",
              "      async function convertToInteractive(key) {\n",
              "        const element = document.querySelector('#df-f1a6b790-c6cc-479a-bb37-d45ef9a231ed');\n",
              "        const dataTable =\n",
              "          await google.colab.kernel.invokeFunction('convertToInteractive',\n",
              "                                                    [key], {});\n",
              "        if (!dataTable) return;\n",
              "\n",
              "        const docLinkHtml = 'Like what you see? Visit the ' +\n",
              "          '<a target=\"_blank\" href=https://colab.research.google.com/notebooks/data_table.ipynb>data table notebook</a>'\n",
              "          + ' to learn more about interactive tables.';\n",
              "        element.innerHTML = '';\n",
              "        dataTable['output_type'] = 'display_data';\n",
              "        await google.colab.output.renderOutput(dataTable, element);\n",
              "        const docLink = document.createElement('div');\n",
              "        docLink.innerHTML = docLinkHtml;\n",
              "        element.appendChild(docLink);\n",
              "      }\n",
              "    </script>\n",
              "  </div>\n",
              "\n",
              "\n",
              "<div id=\"df-3e979588-8ef1-45ba-a3a6-90f2c0d9ac84\">\n",
              "  <button class=\"colab-df-quickchart\" onclick=\"quickchart('df-3e979588-8ef1-45ba-a3a6-90f2c0d9ac84')\"\n",
              "            title=\"Suggest charts\"\n",
              "            style=\"display:none;\">\n",
              "\n",
              "<svg xmlns=\"http://www.w3.org/2000/svg\" height=\"24px\"viewBox=\"0 0 24 24\"\n",
              "     width=\"24px\">\n",
              "    <g>\n",
              "        <path d=\"M19 3H5c-1.1 0-2 .9-2 2v14c0 1.1.9 2 2 2h14c1.1 0 2-.9 2-2V5c0-1.1-.9-2-2-2zM9 17H7v-7h2v7zm4 0h-2V7h2v10zm4 0h-2v-4h2v4z\"/>\n",
              "    </g>\n",
              "</svg>\n",
              "  </button>\n",
              "\n",
              "<style>\n",
              "  .colab-df-quickchart {\n",
              "      --bg-color: #E8F0FE;\n",
              "      --fill-color: #1967D2;\n",
              "      --hover-bg-color: #E2EBFA;\n",
              "      --hover-fill-color: #174EA6;\n",
              "      --disabled-fill-color: #AAA;\n",
              "      --disabled-bg-color: #DDD;\n",
              "  }\n",
              "\n",
              "  [theme=dark] .colab-df-quickchart {\n",
              "      --bg-color: #3B4455;\n",
              "      --fill-color: #D2E3FC;\n",
              "      --hover-bg-color: #434B5C;\n",
              "      --hover-fill-color: #FFFFFF;\n",
              "      --disabled-bg-color: #3B4455;\n",
              "      --disabled-fill-color: #666;\n",
              "  }\n",
              "\n",
              "  .colab-df-quickchart {\n",
              "    background-color: var(--bg-color);\n",
              "    border: none;\n",
              "    border-radius: 50%;\n",
              "    cursor: pointer;\n",
              "    display: none;\n",
              "    fill: var(--fill-color);\n",
              "    height: 32px;\n",
              "    padding: 0;\n",
              "    width: 32px;\n",
              "  }\n",
              "\n",
              "  .colab-df-quickchart:hover {\n",
              "    background-color: var(--hover-bg-color);\n",
              "    box-shadow: 0 1px 2px rgba(60, 64, 67, 0.3), 0 1px 3px 1px rgba(60, 64, 67, 0.15);\n",
              "    fill: var(--button-hover-fill-color);\n",
              "  }\n",
              "\n",
              "  .colab-df-quickchart-complete:disabled,\n",
              "  .colab-df-quickchart-complete:disabled:hover {\n",
              "    background-color: var(--disabled-bg-color);\n",
              "    fill: var(--disabled-fill-color);\n",
              "    box-shadow: none;\n",
              "  }\n",
              "\n",
              "  .colab-df-spinner {\n",
              "    border: 2px solid var(--fill-color);\n",
              "    border-color: transparent;\n",
              "    border-bottom-color: var(--fill-color);\n",
              "    animation:\n",
              "      spin 1s steps(1) infinite;\n",
              "  }\n",
              "\n",
              "  @keyframes spin {\n",
              "    0% {\n",
              "      border-color: transparent;\n",
              "      border-bottom-color: var(--fill-color);\n",
              "      border-left-color: var(--fill-color);\n",
              "    }\n",
              "    20% {\n",
              "      border-color: transparent;\n",
              "      border-left-color: var(--fill-color);\n",
              "      border-top-color: var(--fill-color);\n",
              "    }\n",
              "    30% {\n",
              "      border-color: transparent;\n",
              "      border-left-color: var(--fill-color);\n",
              "      border-top-color: var(--fill-color);\n",
              "      border-right-color: var(--fill-color);\n",
              "    }\n",
              "    40% {\n",
              "      border-color: transparent;\n",
              "      border-right-color: var(--fill-color);\n",
              "      border-top-color: var(--fill-color);\n",
              "    }\n",
              "    60% {\n",
              "      border-color: transparent;\n",
              "      border-right-color: var(--fill-color);\n",
              "    }\n",
              "    80% {\n",
              "      border-color: transparent;\n",
              "      border-right-color: var(--fill-color);\n",
              "      border-bottom-color: var(--fill-color);\n",
              "    }\n",
              "    90% {\n",
              "      border-color: transparent;\n",
              "      border-bottom-color: var(--fill-color);\n",
              "    }\n",
              "  }\n",
              "</style>\n",
              "\n",
              "  <script>\n",
              "    async function quickchart(key) {\n",
              "      const quickchartButtonEl =\n",
              "        document.querySelector('#' + key + ' button');\n",
              "      quickchartButtonEl.disabled = true;  // To prevent multiple clicks.\n",
              "      quickchartButtonEl.classList.add('colab-df-spinner');\n",
              "      try {\n",
              "        const charts = await google.colab.kernel.invokeFunction(\n",
              "            'suggestCharts', [key], {});\n",
              "      } catch (error) {\n",
              "        console.error('Error during call to suggestCharts:', error);\n",
              "      }\n",
              "      quickchartButtonEl.classList.remove('colab-df-spinner');\n",
              "      quickchartButtonEl.classList.add('colab-df-quickchart-complete');\n",
              "    }\n",
              "    (() => {\n",
              "      let quickchartButtonEl =\n",
              "        document.querySelector('#df-3e979588-8ef1-45ba-a3a6-90f2c0d9ac84 button');\n",
              "      quickchartButtonEl.style.display =\n",
              "        google.colab.kernel.accessAllowed ? 'block' : 'none';\n",
              "    })();\n",
              "  </script>\n",
              "</div>\n",
              "    </div>\n",
              "  </div>\n"
            ],
            "application/vnd.google.colaboratory.intrinsic+json": {
              "type": "dataframe",
              "variable_name": "df",
              "summary": "{\n  \"name\": \"df\",\n  \"rows\": 315,\n  \"fields\": [\n    {\n      \"column\": \"1_sentences\",\n      \"properties\": {\n        \"dtype\": \"category\",\n        \"num_unique_values\": 15,\n        \"samples\": [\n          \"in november 1947, she married philip mountbatten, a former prince of greece and denmark, and their marriage lasted 73 years until his death in april 2021. they had four children: charles, anne, andrew and edward.\",\n          \"her father came to the throne in 1936 upon the abdication of his brother, king edward viii, making elizabeth heir presumptive.\",\n          \"elizabeth died aged 96 at balmoral castle, aberdeenshire in 2022, months after her platinum jubilee, and was succeeded by her eldest son, charles iii.\"\n        ],\n        \"semantic_type\": \"\",\n        \"description\": \"\"\n      }\n    },\n    {\n      \"column\": \"2_sentences\",\n      \"properties\": {\n        \"dtype\": \"category\",\n        \"num_unique_values\": 21,\n        \"samples\": [\n          \"she died three months later, on september 8, 2022, at the age of 96; his eldest son succeeded him under the name of charles iii.\",\n          \"princess elizabeth then became, at the age of 10, heir presumptive to the british crown.\",\n          \"on november 20, 1947, she married philip mountbatten, prince of greece and denmark, with whom she had four children: charles, anne, andrew and edward.\"\n        ],\n        \"semantic_type\": \"\",\n        \"description\": \"\"\n      }\n    },\n    {\n      \"column\": \"comparison_score_edit\",\n      \"properties\": {\n        \"dtype\": \"number\",\n        \"std\": 62,\n        \"min\": 56,\n        \"max\": 313,\n        \"num_unique_values\": 159,\n        \"samples\": [\n          142,\n          197,\n          160\n        ],\n        \"semantic_type\": \"\",\n        \"description\": \"\"\n      }\n    }\n  ]\n}"
            }
          },
          "metadata": {},
          "execution_count": 67
        }
      ],
      "source": [
        "df = pd.DataFrame()\n",
        "cal = pd.DataFrame()\n",
        "for i in tok1 :\n",
        "    for j in tok2 :\n",
        "#         print(i)\n",
        "#         print(j)\n",
        "        cal[\"1_sentences\"]= [i]\n",
        "        cal[\"2_sentences\"]= [j]\n",
        "        cal[\"comparison_score_edit\"] =[edit_distance(i,j)]\n",
        "#         print(edit_distance(i,j))\n",
        "#         print(cal)\n",
        "        df=pd.concat([cal,df], ignore_index=True)\n",
        "\n",
        "\n",
        "df\n"
      ]
    },
    {
      "cell_type": "code",
      "execution_count": null,
      "id": "endangered-agriculture",
      "metadata": {
        "id": "endangered-agriculture",
        "outputId": "33872805-a166-4d10-df92-e95a6fb4c8ef",
        "colab": {
          "base_uri": "https://localhost:8080/",
          "height": 363
        }
      },
      "outputs": [
        {
          "output_type": "execute_result",
          "data": {
            "text/plain": [
              "                                           1_sentences  \\\n",
              "26   she sometimes faced republican sentiment and m...   \n",
              "34   she sometimes faced republican sentiment and m...   \n",
              "37   she sometimes faced republican sentiment and m...   \n",
              "167               as well as head of the commonwealth.   \n",
              "40   she sometimes faced republican sentiment and m...   \n",
              "38   she sometimes faced republican sentiment and m...   \n",
              "39   she sometimes faced republican sentiment and m...   \n",
              "35   she sometimes faced republican sentiment and m...   \n",
              "24   she sometimes faced republican sentiment and m...   \n",
              "41   she sometimes faced republican sentiment and m...   \n",
              "\n",
              "                                           2_sentences  comparison_score_edit  \n",
              "26   on september 9, 2015, she became the longest-r...                    313  \n",
              "34   his coronation, on june 2, 1953, was the first...                    310  \n",
              "37   during the second world war, she enlisted in t...                    308  \n",
              "167  elizabeth ii (pronounced in french /elizabɛt/a...                    304  \n",
              "40   at birth, she was third in line to the throne ...                    304  \n",
              "38   princess elizabeth then became, at the age of ...                    301  \n",
              "39   in 1936, his uncle became king but abdicated a...                    298  \n",
              "35   she acceded to the british throne on february ...                    289  \n",
              "24   on october 13, 2016, following the death of th...                    289  \n",
              "41   elizabeth ii (pronounced in french /elizabɛt/a...                    288  "
            ],
            "text/html": [
              "\n",
              "  <div id=\"df-6186dc43-0e95-4348-a6b5-b5bd76f99cd0\" class=\"colab-df-container\">\n",
              "    <div>\n",
              "<style scoped>\n",
              "    .dataframe tbody tr th:only-of-type {\n",
              "        vertical-align: middle;\n",
              "    }\n",
              "\n",
              "    .dataframe tbody tr th {\n",
              "        vertical-align: top;\n",
              "    }\n",
              "\n",
              "    .dataframe thead th {\n",
              "        text-align: right;\n",
              "    }\n",
              "</style>\n",
              "<table border=\"1\" class=\"dataframe\">\n",
              "  <thead>\n",
              "    <tr style=\"text-align: right;\">\n",
              "      <th></th>\n",
              "      <th>1_sentences</th>\n",
              "      <th>2_sentences</th>\n",
              "      <th>comparison_score_edit</th>\n",
              "    </tr>\n",
              "  </thead>\n",
              "  <tbody>\n",
              "    <tr>\n",
              "      <th>26</th>\n",
              "      <td>she sometimes faced republican sentiment and m...</td>\n",
              "      <td>on september 9, 2015, she became the longest-r...</td>\n",
              "      <td>313</td>\n",
              "    </tr>\n",
              "    <tr>\n",
              "      <th>34</th>\n",
              "      <td>she sometimes faced republican sentiment and m...</td>\n",
              "      <td>his coronation, on june 2, 1953, was the first...</td>\n",
              "      <td>310</td>\n",
              "    </tr>\n",
              "    <tr>\n",
              "      <th>37</th>\n",
              "      <td>she sometimes faced republican sentiment and m...</td>\n",
              "      <td>during the second world war, she enlisted in t...</td>\n",
              "      <td>308</td>\n",
              "    </tr>\n",
              "    <tr>\n",
              "      <th>167</th>\n",
              "      <td>as well as head of the commonwealth.</td>\n",
              "      <td>elizabeth ii (pronounced in french /elizabɛt/a...</td>\n",
              "      <td>304</td>\n",
              "    </tr>\n",
              "    <tr>\n",
              "      <th>40</th>\n",
              "      <td>she sometimes faced republican sentiment and m...</td>\n",
              "      <td>at birth, she was third in line to the throne ...</td>\n",
              "      <td>304</td>\n",
              "    </tr>\n",
              "    <tr>\n",
              "      <th>38</th>\n",
              "      <td>she sometimes faced republican sentiment and m...</td>\n",
              "      <td>princess elizabeth then became, at the age of ...</td>\n",
              "      <td>301</td>\n",
              "    </tr>\n",
              "    <tr>\n",
              "      <th>39</th>\n",
              "      <td>she sometimes faced republican sentiment and m...</td>\n",
              "      <td>in 1936, his uncle became king but abdicated a...</td>\n",
              "      <td>298</td>\n",
              "    </tr>\n",
              "    <tr>\n",
              "      <th>35</th>\n",
              "      <td>she sometimes faced republican sentiment and m...</td>\n",
              "      <td>she acceded to the british throne on february ...</td>\n",
              "      <td>289</td>\n",
              "    </tr>\n",
              "    <tr>\n",
              "      <th>24</th>\n",
              "      <td>she sometimes faced republican sentiment and m...</td>\n",
              "      <td>on october 13, 2016, following the death of th...</td>\n",
              "      <td>289</td>\n",
              "    </tr>\n",
              "    <tr>\n",
              "      <th>41</th>\n",
              "      <td>she sometimes faced republican sentiment and m...</td>\n",
              "      <td>elizabeth ii (pronounced in french /elizabɛt/a...</td>\n",
              "      <td>288</td>\n",
              "    </tr>\n",
              "  </tbody>\n",
              "</table>\n",
              "</div>\n",
              "    <div class=\"colab-df-buttons\">\n",
              "\n",
              "  <div class=\"colab-df-container\">\n",
              "    <button class=\"colab-df-convert\" onclick=\"convertToInteractive('df-6186dc43-0e95-4348-a6b5-b5bd76f99cd0')\"\n",
              "            title=\"Convert this dataframe to an interactive table.\"\n",
              "            style=\"display:none;\">\n",
              "\n",
              "  <svg xmlns=\"http://www.w3.org/2000/svg\" height=\"24px\" viewBox=\"0 -960 960 960\">\n",
              "    <path d=\"M120-120v-720h720v720H120Zm60-500h600v-160H180v160Zm220 220h160v-160H400v160Zm0 220h160v-160H400v160ZM180-400h160v-160H180v160Zm440 0h160v-160H620v160ZM180-180h160v-160H180v160Zm440 0h160v-160H620v160Z\"/>\n",
              "  </svg>\n",
              "    </button>\n",
              "\n",
              "  <style>\n",
              "    .colab-df-container {\n",
              "      display:flex;\n",
              "      gap: 12px;\n",
              "    }\n",
              "\n",
              "    .colab-df-convert {\n",
              "      background-color: #E8F0FE;\n",
              "      border: none;\n",
              "      border-radius: 50%;\n",
              "      cursor: pointer;\n",
              "      display: none;\n",
              "      fill: #1967D2;\n",
              "      height: 32px;\n",
              "      padding: 0 0 0 0;\n",
              "      width: 32px;\n",
              "    }\n",
              "\n",
              "    .colab-df-convert:hover {\n",
              "      background-color: #E2EBFA;\n",
              "      box-shadow: 0px 1px 2px rgba(60, 64, 67, 0.3), 0px 1px 3px 1px rgba(60, 64, 67, 0.15);\n",
              "      fill: #174EA6;\n",
              "    }\n",
              "\n",
              "    .colab-df-buttons div {\n",
              "      margin-bottom: 4px;\n",
              "    }\n",
              "\n",
              "    [theme=dark] .colab-df-convert {\n",
              "      background-color: #3B4455;\n",
              "      fill: #D2E3FC;\n",
              "    }\n",
              "\n",
              "    [theme=dark] .colab-df-convert:hover {\n",
              "      background-color: #434B5C;\n",
              "      box-shadow: 0px 1px 3px 1px rgba(0, 0, 0, 0.15);\n",
              "      filter: drop-shadow(0px 1px 2px rgba(0, 0, 0, 0.3));\n",
              "      fill: #FFFFFF;\n",
              "    }\n",
              "  </style>\n",
              "\n",
              "    <script>\n",
              "      const buttonEl =\n",
              "        document.querySelector('#df-6186dc43-0e95-4348-a6b5-b5bd76f99cd0 button.colab-df-convert');\n",
              "      buttonEl.style.display =\n",
              "        google.colab.kernel.accessAllowed ? 'block' : 'none';\n",
              "\n",
              "      async function convertToInteractive(key) {\n",
              "        const element = document.querySelector('#df-6186dc43-0e95-4348-a6b5-b5bd76f99cd0');\n",
              "        const dataTable =\n",
              "          await google.colab.kernel.invokeFunction('convertToInteractive',\n",
              "                                                    [key], {});\n",
              "        if (!dataTable) return;\n",
              "\n",
              "        const docLinkHtml = 'Like what you see? Visit the ' +\n",
              "          '<a target=\"_blank\" href=https://colab.research.google.com/notebooks/data_table.ipynb>data table notebook</a>'\n",
              "          + ' to learn more about interactive tables.';\n",
              "        element.innerHTML = '';\n",
              "        dataTable['output_type'] = 'display_data';\n",
              "        await google.colab.output.renderOutput(dataTable, element);\n",
              "        const docLink = document.createElement('div');\n",
              "        docLink.innerHTML = docLinkHtml;\n",
              "        element.appendChild(docLink);\n",
              "      }\n",
              "    </script>\n",
              "  </div>\n",
              "\n",
              "\n",
              "<div id=\"df-fe0f6b0b-6f1c-4fdd-a777-0891445648ba\">\n",
              "  <button class=\"colab-df-quickchart\" onclick=\"quickchart('df-fe0f6b0b-6f1c-4fdd-a777-0891445648ba')\"\n",
              "            title=\"Suggest charts\"\n",
              "            style=\"display:none;\">\n",
              "\n",
              "<svg xmlns=\"http://www.w3.org/2000/svg\" height=\"24px\"viewBox=\"0 0 24 24\"\n",
              "     width=\"24px\">\n",
              "    <g>\n",
              "        <path d=\"M19 3H5c-1.1 0-2 .9-2 2v14c0 1.1.9 2 2 2h14c1.1 0 2-.9 2-2V5c0-1.1-.9-2-2-2zM9 17H7v-7h2v7zm4 0h-2V7h2v10zm4 0h-2v-4h2v4z\"/>\n",
              "    </g>\n",
              "</svg>\n",
              "  </button>\n",
              "\n",
              "<style>\n",
              "  .colab-df-quickchart {\n",
              "      --bg-color: #E8F0FE;\n",
              "      --fill-color: #1967D2;\n",
              "      --hover-bg-color: #E2EBFA;\n",
              "      --hover-fill-color: #174EA6;\n",
              "      --disabled-fill-color: #AAA;\n",
              "      --disabled-bg-color: #DDD;\n",
              "  }\n",
              "\n",
              "  [theme=dark] .colab-df-quickchart {\n",
              "      --bg-color: #3B4455;\n",
              "      --fill-color: #D2E3FC;\n",
              "      --hover-bg-color: #434B5C;\n",
              "      --hover-fill-color: #FFFFFF;\n",
              "      --disabled-bg-color: #3B4455;\n",
              "      --disabled-fill-color: #666;\n",
              "  }\n",
              "\n",
              "  .colab-df-quickchart {\n",
              "    background-color: var(--bg-color);\n",
              "    border: none;\n",
              "    border-radius: 50%;\n",
              "    cursor: pointer;\n",
              "    display: none;\n",
              "    fill: var(--fill-color);\n",
              "    height: 32px;\n",
              "    padding: 0;\n",
              "    width: 32px;\n",
              "  }\n",
              "\n",
              "  .colab-df-quickchart:hover {\n",
              "    background-color: var(--hover-bg-color);\n",
              "    box-shadow: 0 1px 2px rgba(60, 64, 67, 0.3), 0 1px 3px 1px rgba(60, 64, 67, 0.15);\n",
              "    fill: var(--button-hover-fill-color);\n",
              "  }\n",
              "\n",
              "  .colab-df-quickchart-complete:disabled,\n",
              "  .colab-df-quickchart-complete:disabled:hover {\n",
              "    background-color: var(--disabled-bg-color);\n",
              "    fill: var(--disabled-fill-color);\n",
              "    box-shadow: none;\n",
              "  }\n",
              "\n",
              "  .colab-df-spinner {\n",
              "    border: 2px solid var(--fill-color);\n",
              "    border-color: transparent;\n",
              "    border-bottom-color: var(--fill-color);\n",
              "    animation:\n",
              "      spin 1s steps(1) infinite;\n",
              "  }\n",
              "\n",
              "  @keyframes spin {\n",
              "    0% {\n",
              "      border-color: transparent;\n",
              "      border-bottom-color: var(--fill-color);\n",
              "      border-left-color: var(--fill-color);\n",
              "    }\n",
              "    20% {\n",
              "      border-color: transparent;\n",
              "      border-left-color: var(--fill-color);\n",
              "      border-top-color: var(--fill-color);\n",
              "    }\n",
              "    30% {\n",
              "      border-color: transparent;\n",
              "      border-left-color: var(--fill-color);\n",
              "      border-top-color: var(--fill-color);\n",
              "      border-right-color: var(--fill-color);\n",
              "    }\n",
              "    40% {\n",
              "      border-color: transparent;\n",
              "      border-right-color: var(--fill-color);\n",
              "      border-top-color: var(--fill-color);\n",
              "    }\n",
              "    60% {\n",
              "      border-color: transparent;\n",
              "      border-right-color: var(--fill-color);\n",
              "    }\n",
              "    80% {\n",
              "      border-color: transparent;\n",
              "      border-right-color: var(--fill-color);\n",
              "      border-bottom-color: var(--fill-color);\n",
              "    }\n",
              "    90% {\n",
              "      border-color: transparent;\n",
              "      border-bottom-color: var(--fill-color);\n",
              "    }\n",
              "  }\n",
              "</style>\n",
              "\n",
              "  <script>\n",
              "    async function quickchart(key) {\n",
              "      const quickchartButtonEl =\n",
              "        document.querySelector('#' + key + ' button');\n",
              "      quickchartButtonEl.disabled = true;  // To prevent multiple clicks.\n",
              "      quickchartButtonEl.classList.add('colab-df-spinner');\n",
              "      try {\n",
              "        const charts = await google.colab.kernel.invokeFunction(\n",
              "            'suggestCharts', [key], {});\n",
              "      } catch (error) {\n",
              "        console.error('Error during call to suggestCharts:', error);\n",
              "      }\n",
              "      quickchartButtonEl.classList.remove('colab-df-spinner');\n",
              "      quickchartButtonEl.classList.add('colab-df-quickchart-complete');\n",
              "    }\n",
              "    (() => {\n",
              "      let quickchartButtonEl =\n",
              "        document.querySelector('#df-fe0f6b0b-6f1c-4fdd-a777-0891445648ba button');\n",
              "      quickchartButtonEl.style.display =\n",
              "        google.colab.kernel.accessAllowed ? 'block' : 'none';\n",
              "    })();\n",
              "  </script>\n",
              "</div>\n",
              "    </div>\n",
              "  </div>\n"
            ],
            "application/vnd.google.colaboratory.intrinsic+json": {
              "type": "dataframe",
              "summary": "{\n  \"name\": \"df\",\n  \"rows\": 10,\n  \"fields\": [\n    {\n      \"column\": \"1_sentences\",\n      \"properties\": {\n        \"dtype\": \"category\",\n        \"num_unique_values\": 2,\n        \"samples\": [\n          \"as well as head of the commonwealth.\",\n          \"she sometimes faced republican sentiment and media criticism of her family, particularly after the breakdown of her children's marriages, her annus horribilis in 1992, and the death of her former daughter-in-law diana, princess of wales, in 1997. however, support as the monarchy in the united kingdom has remained consistently high, as has his personal popularity.\"\n        ],\n        \"semantic_type\": \"\",\n        \"description\": \"\"\n      }\n    },\n    {\n      \"column\": \"2_sentences\",\n      \"properties\": {\n        \"dtype\": \"string\",\n        \"num_unique_values\": 9,\n        \"samples\": [\n          \"she acceded to the british throne on february 6, 1952, at the age of 25, on the death of george vi.\",\n          \"his coronation, on june 2, 1953, was the first to be broadcast on television.\"\n        ],\n        \"semantic_type\": \"\",\n        \"description\": \"\"\n      }\n    },\n    {\n      \"column\": \"comparison_score_edit\",\n      \"properties\": {\n        \"dtype\": \"number\",\n        \"std\": 9,\n        \"min\": 288,\n        \"max\": 313,\n        \"num_unique_values\": 8,\n        \"samples\": [\n          310,\n          298\n        ],\n        \"semantic_type\": \"\",\n        \"description\": \"\"\n      }\n    }\n  ]\n}"
            }
          },
          "metadata": {},
          "execution_count": 71
        }
      ],
      "source": [
        "df.sort_values(by=[\"comparison_score_edit\"], ascending=False).head(10)"
      ]
    },
    {
      "cell_type": "code",
      "execution_count": null,
      "id": "dietary-drunk",
      "metadata": {
        "id": "dietary-drunk",
        "outputId": "3378629a-0097-47c8-a832-1fcad27e1e84",
        "colab": {
          "base_uri": "https://localhost:8080/"
        }
      },
      "outputs": [
        {
          "output_type": "stream",
          "name": "stdout",
          "text": [
            "According to Levenshtein Edit Distance the two nearest sentence in the text are:\n",
            "- she sometimes faced republican sentiment and media criticism of her family, particularly after the breakdown of her children's marriages, her annus horribilis in 1992, and the death of her former daughter-in-law diana, princess of wales, in 1997. however, support as the monarchy in the united kingdom has remained consistently high, as has his personal popularity.\n",
            "- on september 9, 2015, she became the longest-reigning british sovereign.\n"
          ]
        }
      ],
      "source": [
        "print(\"According to Levenshtein Edit Distance the two nearest sentence in the text are:\")\n",
        "print(\"-\",df.sort_values(by=[\"comparison_score_edit\"], ascending=False).head(1)[\"1_sentences\"].values[0])\n",
        "print(\"-\",df.sort_values(by=[\"comparison_score_edit\"], ascending=False).head(1)[\"2_sentences\"].values[0])"
      ]
    },
    {
      "cell_type": "markdown",
      "id": "decent-republican",
      "metadata": {
        "id": "decent-republican"
      },
      "source": [
        "It doesn't work. So we will try another method."
      ]
    },
    {
      "cell_type": "markdown",
      "id": "adult-monaco",
      "metadata": {
        "id": "adult-monaco"
      },
      "source": [
        "### Second try : successful\n",
        "\n",
        "I analysis sentences by splitting them in list of keyword and I compare them.\n",
        "process :\n",
        "- create a list with all the word to remove symbole and useless word => to only have the keyword\n",
        "- stemming of each keyword => to not be influenced by grammar\n",
        "- compare each word from a sentence in the text 1 to all the word in each sentence in the text 2"
      ]
    },
    {
      "cell_type": "code",
      "source": [
        "df[\"1_sentences_processing\"] = df[\"1_sentences\"].apply(lambda text : text.replace(\"(\",\"\").replace(\")\",\"\").replace(\",\",\"\").replace(\":\",\"\").replace(\";\",\"\"))\n",
        "df[\"2_sentences_processing\"] = df[\"2_sentences\"].apply(lambda text : text.replace(\"(\",\"\").replace(\")\",\"\").replace(\",\",\"\").replace(\":\",\"\").replace(\";\",\"\"))\n",
        "\n",
        "tokenizer=RegexpTokenizer(\"[a-zA-Z]+\")\n",
        "df[\"1_sentences_processing\"] = df[\"1_sentences_processing\"].apply(lambda text : tokenizer.tokenize(text))\n",
        "df[\"2_sentences_processing\"] = df[\"2_sentences_processing\"].apply(lambda text : tokenizer.tokenize(text))\n",
        "\n",
        "stopsen = set(stopwords.words(\"english\"))\n",
        "df[\"1_sentences_processing\"] = df[\"1_sentences_processing\"].apply(lambda words : [word for word in words if word not in stopsen])\n",
        "df[\"2_sentences_processing\"] = df[\"2_sentences_processing\"].apply(lambda words : [word for word in words if word not in stopsen])\n",
        "\n",
        "df[\"1_sentences_processing\"] = df[\"1_sentences_processing\"].apply(lambda words : [stemmer.stem(x) for x in words])\n",
        "df[\"2_sentences_processing\"] = df[\"2_sentences_processing\"].apply(lambda words : [stemmer.stem(x) for x in words])\n",
        "\n",
        "df"
      ],
      "metadata": {
        "colab": {
          "base_uri": "https://localhost:8080/",
          "height": 597
        },
        "id": "Uj9sLRmezKvF",
        "outputId": "2d3d2bb2-d043-4282-d092-37ef35468c75"
      },
      "id": "Uj9sLRmezKvF",
      "execution_count": null,
      "outputs": [
        {
          "output_type": "execute_result",
          "data": {
            "text/plain": [
              "                                           1_sentences  \\\n",
              "0    elizabeth died aged 96 at balmoral castle, abe...   \n",
              "1    elizabeth died aged 96 at balmoral castle, abe...   \n",
              "2    elizabeth died aged 96 at balmoral castle, abe...   \n",
              "3    elizabeth died aged 96 at balmoral castle, abe...   \n",
              "4    elizabeth died aged 96 at balmoral castle, abe...   \n",
              "..                                                 ...   \n",
              "310  elizabeth ii (elizabeth alexandra mary; 21 apr...   \n",
              "311  elizabeth ii (elizabeth alexandra mary; 21 apr...   \n",
              "312  elizabeth ii (elizabeth alexandra mary; 21 apr...   \n",
              "313  elizabeth ii (elizabeth alexandra mary; 21 apr...   \n",
              "314  elizabeth ii (elizabeth alexandra mary; 21 apr...   \n",
              "\n",
              "                                           2_sentences  comparison_score_edit  \\\n",
              "0    she died three months later, on september 8, 2...                     90   \n",
              "1    she then became the second monarch of the mode...                    112   \n",
              "2    at the start of june 2022, she becomes the fir...                    132   \n",
              "3    on october 13, 2016, following the death of th...                    115   \n",
              "4    she reigned for 70 years, 7 months and 2 days,...                    123   \n",
              "..                                                 ...                    ...   \n",
              "310  during the second world war, she enlisted in t...                    228   \n",
              "311  princess elizabeth then became, at the age of ...                    221   \n",
              "312  in 1936, his uncle became king but abdicated a...                    218   \n",
              "313  at birth, she was third in line to the throne ...                    220   \n",
              "314  elizabeth ii (pronounced in french /elizabɛt/a...                    244   \n",
              "\n",
              "                                1_sentences_processing  \\\n",
              "0    [elizabeth, die, age, balmor, castl, aberdeens...   \n",
              "1    [elizabeth, die, age, balmor, castl, aberdeens...   \n",
              "2    [elizabeth, die, age, balmor, castl, aberdeens...   \n",
              "3    [elizabeth, die, age, balmor, castl, aberdeens...   \n",
              "4    [elizabeth, die, age, balmor, castl, aberdeens...   \n",
              "..                                                 ...   \n",
              "310  [elizabeth, ii, elizabeth, alexandra, mari, ap...   \n",
              "311  [elizabeth, ii, elizabeth, alexandra, mari, ap...   \n",
              "312  [elizabeth, ii, elizabeth, alexandra, mari, ap...   \n",
              "313  [elizabeth, ii, elizabeth, alexandra, mari, ap...   \n",
              "314  [elizabeth, ii, elizabeth, alexandra, mari, ap...   \n",
              "\n",
              "                                2_sentences_processing  \n",
              "0    [die, three, month, later, septemb, age, eldes...  \n",
              "1    [becam, second, monarch, modern, era, longest,...  \n",
              "2    [start, june, becom, first, monarch, histori, ...  \n",
              "3    [octob, follow, death, thailand, king, rama, i...  \n",
              "4    [reign, year, month, day, exceed, reign, great...  \n",
              "..                                                 ...  \n",
              "310  [second, world, war, enlist, auxiliari, territ...  \n",
              "311  [princess, elizabeth, becam, age, heir, presum...  \n",
              "312  [uncl, becam, king, abdic, month, later, leav,...  \n",
              "313         [birth, third, line, throne, uncl, father]  \n",
              "314  [elizabeth, ii, pronounc, french, elizab, engl...  \n",
              "\n",
              "[315 rows x 5 columns]"
            ],
            "text/html": [
              "\n",
              "  <div id=\"df-fd1768c9-7dd8-42b9-87aa-5133bae4e6dc\" class=\"colab-df-container\">\n",
              "    <div>\n",
              "<style scoped>\n",
              "    .dataframe tbody tr th:only-of-type {\n",
              "        vertical-align: middle;\n",
              "    }\n",
              "\n",
              "    .dataframe tbody tr th {\n",
              "        vertical-align: top;\n",
              "    }\n",
              "\n",
              "    .dataframe thead th {\n",
              "        text-align: right;\n",
              "    }\n",
              "</style>\n",
              "<table border=\"1\" class=\"dataframe\">\n",
              "  <thead>\n",
              "    <tr style=\"text-align: right;\">\n",
              "      <th></th>\n",
              "      <th>1_sentences</th>\n",
              "      <th>2_sentences</th>\n",
              "      <th>comparison_score_edit</th>\n",
              "      <th>1_sentences_processing</th>\n",
              "      <th>2_sentences_processing</th>\n",
              "    </tr>\n",
              "  </thead>\n",
              "  <tbody>\n",
              "    <tr>\n",
              "      <th>0</th>\n",
              "      <td>elizabeth died aged 96 at balmoral castle, abe...</td>\n",
              "      <td>she died three months later, on september 8, 2...</td>\n",
              "      <td>90</td>\n",
              "      <td>[elizabeth, die, age, balmor, castl, aberdeens...</td>\n",
              "      <td>[die, three, month, later, septemb, age, eldes...</td>\n",
              "    </tr>\n",
              "    <tr>\n",
              "      <th>1</th>\n",
              "      <td>elizabeth died aged 96 at balmoral castle, abe...</td>\n",
              "      <td>she then became the second monarch of the mode...</td>\n",
              "      <td>112</td>\n",
              "      <td>[elizabeth, die, age, balmor, castl, aberdeens...</td>\n",
              "      <td>[becam, second, monarch, modern, era, longest,...</td>\n",
              "    </tr>\n",
              "    <tr>\n",
              "      <th>2</th>\n",
              "      <td>elizabeth died aged 96 at balmoral castle, abe...</td>\n",
              "      <td>at the start of june 2022, she becomes the fir...</td>\n",
              "      <td>132</td>\n",
              "      <td>[elizabeth, die, age, balmor, castl, aberdeens...</td>\n",
              "      <td>[start, june, becom, first, monarch, histori, ...</td>\n",
              "    </tr>\n",
              "    <tr>\n",
              "      <th>3</th>\n",
              "      <td>elizabeth died aged 96 at balmoral castle, abe...</td>\n",
              "      <td>on october 13, 2016, following the death of th...</td>\n",
              "      <td>115</td>\n",
              "      <td>[elizabeth, die, age, balmor, castl, aberdeens...</td>\n",
              "      <td>[octob, follow, death, thailand, king, rama, i...</td>\n",
              "    </tr>\n",
              "    <tr>\n",
              "      <th>4</th>\n",
              "      <td>elizabeth died aged 96 at balmoral castle, abe...</td>\n",
              "      <td>she reigned for 70 years, 7 months and 2 days,...</td>\n",
              "      <td>123</td>\n",
              "      <td>[elizabeth, die, age, balmor, castl, aberdeens...</td>\n",
              "      <td>[reign, year, month, day, exceed, reign, great...</td>\n",
              "    </tr>\n",
              "    <tr>\n",
              "      <th>...</th>\n",
              "      <td>...</td>\n",
              "      <td>...</td>\n",
              "      <td>...</td>\n",
              "      <td>...</td>\n",
              "      <td>...</td>\n",
              "    </tr>\n",
              "    <tr>\n",
              "      <th>310</th>\n",
              "      <td>elizabeth ii (elizabeth alexandra mary; 21 apr...</td>\n",
              "      <td>during the second world war, she enlisted in t...</td>\n",
              "      <td>228</td>\n",
              "      <td>[elizabeth, ii, elizabeth, alexandra, mari, ap...</td>\n",
              "      <td>[second, world, war, enlist, auxiliari, territ...</td>\n",
              "    </tr>\n",
              "    <tr>\n",
              "      <th>311</th>\n",
              "      <td>elizabeth ii (elizabeth alexandra mary; 21 apr...</td>\n",
              "      <td>princess elizabeth then became, at the age of ...</td>\n",
              "      <td>221</td>\n",
              "      <td>[elizabeth, ii, elizabeth, alexandra, mari, ap...</td>\n",
              "      <td>[princess, elizabeth, becam, age, heir, presum...</td>\n",
              "    </tr>\n",
              "    <tr>\n",
              "      <th>312</th>\n",
              "      <td>elizabeth ii (elizabeth alexandra mary; 21 apr...</td>\n",
              "      <td>in 1936, his uncle became king but abdicated a...</td>\n",
              "      <td>218</td>\n",
              "      <td>[elizabeth, ii, elizabeth, alexandra, mari, ap...</td>\n",
              "      <td>[uncl, becam, king, abdic, month, later, leav,...</td>\n",
              "    </tr>\n",
              "    <tr>\n",
              "      <th>313</th>\n",
              "      <td>elizabeth ii (elizabeth alexandra mary; 21 apr...</td>\n",
              "      <td>at birth, she was third in line to the throne ...</td>\n",
              "      <td>220</td>\n",
              "      <td>[elizabeth, ii, elizabeth, alexandra, mari, ap...</td>\n",
              "      <td>[birth, third, line, throne, uncl, father]</td>\n",
              "    </tr>\n",
              "    <tr>\n",
              "      <th>314</th>\n",
              "      <td>elizabeth ii (elizabeth alexandra mary; 21 apr...</td>\n",
              "      <td>elizabeth ii (pronounced in french /elizabɛt/a...</td>\n",
              "      <td>244</td>\n",
              "      <td>[elizabeth, ii, elizabeth, alexandra, mari, ap...</td>\n",
              "      <td>[elizabeth, ii, pronounc, french, elizab, engl...</td>\n",
              "    </tr>\n",
              "  </tbody>\n",
              "</table>\n",
              "<p>315 rows × 5 columns</p>\n",
              "</div>\n",
              "    <div class=\"colab-df-buttons\">\n",
              "\n",
              "  <div class=\"colab-df-container\">\n",
              "    <button class=\"colab-df-convert\" onclick=\"convertToInteractive('df-fd1768c9-7dd8-42b9-87aa-5133bae4e6dc')\"\n",
              "            title=\"Convert this dataframe to an interactive table.\"\n",
              "            style=\"display:none;\">\n",
              "\n",
              "  <svg xmlns=\"http://www.w3.org/2000/svg\" height=\"24px\" viewBox=\"0 -960 960 960\">\n",
              "    <path d=\"M120-120v-720h720v720H120Zm60-500h600v-160H180v160Zm220 220h160v-160H400v160Zm0 220h160v-160H400v160ZM180-400h160v-160H180v160Zm440 0h160v-160H620v160ZM180-180h160v-160H180v160Zm440 0h160v-160H620v160Z\"/>\n",
              "  </svg>\n",
              "    </button>\n",
              "\n",
              "  <style>\n",
              "    .colab-df-container {\n",
              "      display:flex;\n",
              "      gap: 12px;\n",
              "    }\n",
              "\n",
              "    .colab-df-convert {\n",
              "      background-color: #E8F0FE;\n",
              "      border: none;\n",
              "      border-radius: 50%;\n",
              "      cursor: pointer;\n",
              "      display: none;\n",
              "      fill: #1967D2;\n",
              "      height: 32px;\n",
              "      padding: 0 0 0 0;\n",
              "      width: 32px;\n",
              "    }\n",
              "\n",
              "    .colab-df-convert:hover {\n",
              "      background-color: #E2EBFA;\n",
              "      box-shadow: 0px 1px 2px rgba(60, 64, 67, 0.3), 0px 1px 3px 1px rgba(60, 64, 67, 0.15);\n",
              "      fill: #174EA6;\n",
              "    }\n",
              "\n",
              "    .colab-df-buttons div {\n",
              "      margin-bottom: 4px;\n",
              "    }\n",
              "\n",
              "    [theme=dark] .colab-df-convert {\n",
              "      background-color: #3B4455;\n",
              "      fill: #D2E3FC;\n",
              "    }\n",
              "\n",
              "    [theme=dark] .colab-df-convert:hover {\n",
              "      background-color: #434B5C;\n",
              "      box-shadow: 0px 1px 3px 1px rgba(0, 0, 0, 0.15);\n",
              "      filter: drop-shadow(0px 1px 2px rgba(0, 0, 0, 0.3));\n",
              "      fill: #FFFFFF;\n",
              "    }\n",
              "  </style>\n",
              "\n",
              "    <script>\n",
              "      const buttonEl =\n",
              "        document.querySelector('#df-fd1768c9-7dd8-42b9-87aa-5133bae4e6dc button.colab-df-convert');\n",
              "      buttonEl.style.display =\n",
              "        google.colab.kernel.accessAllowed ? 'block' : 'none';\n",
              "\n",
              "      async function convertToInteractive(key) {\n",
              "        const element = document.querySelector('#df-fd1768c9-7dd8-42b9-87aa-5133bae4e6dc');\n",
              "        const dataTable =\n",
              "          await google.colab.kernel.invokeFunction('convertToInteractive',\n",
              "                                                    [key], {});\n",
              "        if (!dataTable) return;\n",
              "\n",
              "        const docLinkHtml = 'Like what you see? Visit the ' +\n",
              "          '<a target=\"_blank\" href=https://colab.research.google.com/notebooks/data_table.ipynb>data table notebook</a>'\n",
              "          + ' to learn more about interactive tables.';\n",
              "        element.innerHTML = '';\n",
              "        dataTable['output_type'] = 'display_data';\n",
              "        await google.colab.output.renderOutput(dataTable, element);\n",
              "        const docLink = document.createElement('div');\n",
              "        docLink.innerHTML = docLinkHtml;\n",
              "        element.appendChild(docLink);\n",
              "      }\n",
              "    </script>\n",
              "  </div>\n",
              "\n",
              "\n",
              "<div id=\"df-0a5c8cb9-a7a2-42c0-b66a-322ed8f487ca\">\n",
              "  <button class=\"colab-df-quickchart\" onclick=\"quickchart('df-0a5c8cb9-a7a2-42c0-b66a-322ed8f487ca')\"\n",
              "            title=\"Suggest charts\"\n",
              "            style=\"display:none;\">\n",
              "\n",
              "<svg xmlns=\"http://www.w3.org/2000/svg\" height=\"24px\"viewBox=\"0 0 24 24\"\n",
              "     width=\"24px\">\n",
              "    <g>\n",
              "        <path d=\"M19 3H5c-1.1 0-2 .9-2 2v14c0 1.1.9 2 2 2h14c1.1 0 2-.9 2-2V5c0-1.1-.9-2-2-2zM9 17H7v-7h2v7zm4 0h-2V7h2v10zm4 0h-2v-4h2v4z\"/>\n",
              "    </g>\n",
              "</svg>\n",
              "  </button>\n",
              "\n",
              "<style>\n",
              "  .colab-df-quickchart {\n",
              "      --bg-color: #E8F0FE;\n",
              "      --fill-color: #1967D2;\n",
              "      --hover-bg-color: #E2EBFA;\n",
              "      --hover-fill-color: #174EA6;\n",
              "      --disabled-fill-color: #AAA;\n",
              "      --disabled-bg-color: #DDD;\n",
              "  }\n",
              "\n",
              "  [theme=dark] .colab-df-quickchart {\n",
              "      --bg-color: #3B4455;\n",
              "      --fill-color: #D2E3FC;\n",
              "      --hover-bg-color: #434B5C;\n",
              "      --hover-fill-color: #FFFFFF;\n",
              "      --disabled-bg-color: #3B4455;\n",
              "      --disabled-fill-color: #666;\n",
              "  }\n",
              "\n",
              "  .colab-df-quickchart {\n",
              "    background-color: var(--bg-color);\n",
              "    border: none;\n",
              "    border-radius: 50%;\n",
              "    cursor: pointer;\n",
              "    display: none;\n",
              "    fill: var(--fill-color);\n",
              "    height: 32px;\n",
              "    padding: 0;\n",
              "    width: 32px;\n",
              "  }\n",
              "\n",
              "  .colab-df-quickchart:hover {\n",
              "    background-color: var(--hover-bg-color);\n",
              "    box-shadow: 0 1px 2px rgba(60, 64, 67, 0.3), 0 1px 3px 1px rgba(60, 64, 67, 0.15);\n",
              "    fill: var(--button-hover-fill-color);\n",
              "  }\n",
              "\n",
              "  .colab-df-quickchart-complete:disabled,\n",
              "  .colab-df-quickchart-complete:disabled:hover {\n",
              "    background-color: var(--disabled-bg-color);\n",
              "    fill: var(--disabled-fill-color);\n",
              "    box-shadow: none;\n",
              "  }\n",
              "\n",
              "  .colab-df-spinner {\n",
              "    border: 2px solid var(--fill-color);\n",
              "    border-color: transparent;\n",
              "    border-bottom-color: var(--fill-color);\n",
              "    animation:\n",
              "      spin 1s steps(1) infinite;\n",
              "  }\n",
              "\n",
              "  @keyframes spin {\n",
              "    0% {\n",
              "      border-color: transparent;\n",
              "      border-bottom-color: var(--fill-color);\n",
              "      border-left-color: var(--fill-color);\n",
              "    }\n",
              "    20% {\n",
              "      border-color: transparent;\n",
              "      border-left-color: var(--fill-color);\n",
              "      border-top-color: var(--fill-color);\n",
              "    }\n",
              "    30% {\n",
              "      border-color: transparent;\n",
              "      border-left-color: var(--fill-color);\n",
              "      border-top-color: var(--fill-color);\n",
              "      border-right-color: var(--fill-color);\n",
              "    }\n",
              "    40% {\n",
              "      border-color: transparent;\n",
              "      border-right-color: var(--fill-color);\n",
              "      border-top-color: var(--fill-color);\n",
              "    }\n",
              "    60% {\n",
              "      border-color: transparent;\n",
              "      border-right-color: var(--fill-color);\n",
              "    }\n",
              "    80% {\n",
              "      border-color: transparent;\n",
              "      border-right-color: var(--fill-color);\n",
              "      border-bottom-color: var(--fill-color);\n",
              "    }\n",
              "    90% {\n",
              "      border-color: transparent;\n",
              "      border-bottom-color: var(--fill-color);\n",
              "    }\n",
              "  }\n",
              "</style>\n",
              "\n",
              "  <script>\n",
              "    async function quickchart(key) {\n",
              "      const quickchartButtonEl =\n",
              "        document.querySelector('#' + key + ' button');\n",
              "      quickchartButtonEl.disabled = true;  // To prevent multiple clicks.\n",
              "      quickchartButtonEl.classList.add('colab-df-spinner');\n",
              "      try {\n",
              "        const charts = await google.colab.kernel.invokeFunction(\n",
              "            'suggestCharts', [key], {});\n",
              "      } catch (error) {\n",
              "        console.error('Error during call to suggestCharts:', error);\n",
              "      }\n",
              "      quickchartButtonEl.classList.remove('colab-df-spinner');\n",
              "      quickchartButtonEl.classList.add('colab-df-quickchart-complete');\n",
              "    }\n",
              "    (() => {\n",
              "      let quickchartButtonEl =\n",
              "        document.querySelector('#df-0a5c8cb9-a7a2-42c0-b66a-322ed8f487ca button');\n",
              "      quickchartButtonEl.style.display =\n",
              "        google.colab.kernel.accessAllowed ? 'block' : 'none';\n",
              "    })();\n",
              "  </script>\n",
              "</div>\n",
              "    </div>\n",
              "  </div>\n"
            ],
            "application/vnd.google.colaboratory.intrinsic+json": {
              "type": "dataframe",
              "variable_name": "df",
              "summary": "{\n  \"name\": \"df\",\n  \"rows\": 315,\n  \"fields\": [\n    {\n      \"column\": \"1_sentences\",\n      \"properties\": {\n        \"dtype\": \"category\",\n        \"num_unique_values\": 15,\n        \"samples\": [\n          \"in november 1947, she married philip mountbatten, a former prince of greece and denmark, and their marriage lasted 73 years until his death in april 2021. they had four children: charles, anne, andrew and edward.\",\n          \"her father came to the throne in 1936 upon the abdication of his brother, king edward viii, making elizabeth heir presumptive.\",\n          \"elizabeth died aged 96 at balmoral castle, aberdeenshire in 2022, months after her platinum jubilee, and was succeeded by her eldest son, charles iii.\"\n        ],\n        \"semantic_type\": \"\",\n        \"description\": \"\"\n      }\n    },\n    {\n      \"column\": \"2_sentences\",\n      \"properties\": {\n        \"dtype\": \"category\",\n        \"num_unique_values\": 21,\n        \"samples\": [\n          \"she died three months later, on september 8, 2022, at the age of 96; his eldest son succeeded him under the name of charles iii.\",\n          \"princess elizabeth then became, at the age of 10, heir presumptive to the british crown.\",\n          \"on november 20, 1947, she married philip mountbatten, prince of greece and denmark, with whom she had four children: charles, anne, andrew and edward.\"\n        ],\n        \"semantic_type\": \"\",\n        \"description\": \"\"\n      }\n    },\n    {\n      \"column\": \"comparison_score_edit\",\n      \"properties\": {\n        \"dtype\": \"number\",\n        \"std\": 62,\n        \"min\": 56,\n        \"max\": 313,\n        \"num_unique_values\": 159,\n        \"samples\": [\n          142,\n          197,\n          160\n        ],\n        \"semantic_type\": \"\",\n        \"description\": \"\"\n      }\n    },\n    {\n      \"column\": \"1_sentences_processing\",\n      \"properties\": {\n        \"dtype\": \"object\",\n        \"semantic_type\": \"\",\n        \"description\": \"\"\n      }\n    },\n    {\n      \"column\": \"2_sentences_processing\",\n      \"properties\": {\n        \"dtype\": \"object\",\n        \"semantic_type\": \"\",\n        \"description\": \"\"\n      }\n    }\n  ]\n}"
            }
          },
          "metadata": {},
          "execution_count": 90
        }
      ]
    },
    {
      "cell_type": "code",
      "source": [
        "df[\"Jaccard_score\"] = df.apply(lambda x : td.jaccard(x[\"1_sentences_processing\"],x[\"2_sentences_processing\"]),axis=1)\n",
        "df = df.sort_values(by=[\"Jaccard_score\"], ascending=False).reset_index()\n",
        "del df[\"index\"]\n",
        "print(\"Nearest sentences with Jaccard score\")\n",
        "for i in range(3):\n",
        "  print(f\"-{i+1}-\")\n",
        "  print(\"- \",df.iloc[i,0])\n",
        "  print(\"- \",df.iloc[i,1])"
      ],
      "metadata": {
        "colab": {
          "base_uri": "https://localhost:8080/"
        },
        "id": "PeZLemVG3CfK",
        "outputId": "07a97949-dc88-4f64-d013-f1290da943d0"
      },
      "id": "PeZLemVG3CfK",
      "execution_count": null,
      "outputs": [
        {
          "output_type": "stream",
          "name": "stdout",
          "text": [
            "Nearest sentences with Jaccard score\n",
            "-1-\n",
            "-  in november 1947, she married philip mountbatten, a former prince of greece and denmark, and their marriage lasted 73 years until his death in april 2021. they had four children: charles, anne, andrew and edward.\n",
            "-  on november 20, 1947, she married philip mountbatten, prince of greece and denmark, with whom she had four children: charles, anne, andrew and edward.\n",
            "-2-\n",
            "-  when her father died in february 1952, elizabeth, then aged 25, became queen of seven independent commonwealth countries: the united kingdom, canada, australia, new zealand, south africa , pakistan and ceylon (known today as sri lanka).\n",
            "-  she becomes the sovereign of seven independent commonwealth states: south africa, australia, canada, ceylon, new zealand, pakistan and the united kingdom.\n",
            "-3-\n",
            "-  elizabeth died aged 96 at balmoral castle, aberdeenshire in 2022, months after her platinum jubilee, and was succeeded by her eldest son, charles iii.\n",
            "-  she died three months later, on september 8, 2022, at the age of 96; his eldest son succeeded him under the name of charles iii.\n"
          ]
        }
      ]
    },
    {
      "cell_type": "markdown",
      "source": [
        "works quite well.\n",
        "Jacccard is good to match the nearest sentences by meaning because it does not take into consideration the place of the word within the sentence.\n",
        "So it's rather practical when the authors don't have the same way of writing things."
      ],
      "metadata": {
        "id": "VdGjcncG6rwx"
      },
      "id": "VdGjcncG6rwx"
    }
  ],
  "metadata": {
    "kernelspec": {
      "display_name": "Python 3 (ipykernel)",
      "language": "python",
      "name": "python3"
    },
    "language_info": {
      "codemirror_mode": {
        "name": "ipython",
        "version": 3
      },
      "file_extension": ".py",
      "mimetype": "text/x-python",
      "name": "python",
      "nbconvert_exporter": "python",
      "pygments_lexer": "ipython3",
      "version": "3.9.12"
    },
    "colab": {
      "provenance": []
    }
  },
  "nbformat": 4,
  "nbformat_minor": 5
}